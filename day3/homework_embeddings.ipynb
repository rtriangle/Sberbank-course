{
 "cells": [
  {
   "cell_type": "markdown",
   "metadata": {},
   "source": [
    "## Задача поиска схожих по смыслу предложений"
   ]
  },
  {
   "cell_type": "markdown",
   "metadata": {},
   "source": [
    "Мы будем ранжировать вопросы [StackOverflow](https://stackoverflow.com) на основе семантического векторного представления "
   ]
  },
  {
   "cell_type": "markdown",
   "metadata": {},
   "source": [
    "До этого в курсе не было речи про задачу ранжировния, поэтому введем математическую формулировку"
   ]
  },
  {
   "cell_type": "markdown",
   "metadata": {},
   "source": [
    "## Задача ранжирования(Learning to Rank)"
   ]
  },
  {
   "cell_type": "markdown",
   "metadata": {},
   "source": [
    "* $X$ - множество объектов\n",
    "* $X^l = \\{x_1, x_2, ..., x_l\\}$ - обучающая выборка\n",
    "<br>На обучающей выборке задан порядок между некоторыми элементами, то есть нам известно, что некий объект выборки более релевантный для нас, чем другой:\n",
    "* $i \\prec j$ - порядок пары индексов объектов на выборке $X^l$ c индексами $i$ и $j$\n",
    "### Задача:\n",
    "построить ранжирующую функцию $a$ : $X \\rightarrow R$ такую, что\n",
    "$$i \\prec j \\Rightarrow a(x_i) < a(x_j)$$"
   ]
  },
  {
   "cell_type": "markdown",
   "metadata": {},
   "source": [
    "<img src=\"https://d25skit2l41vkl.cloudfront.net/wp-content/uploads/2016/12/Featured-Image.jpg\" width=500, height=450>"
   ]
  },
  {
   "cell_type": "markdown",
   "metadata": {},
   "source": [
    "### Данные\n",
    "`test.tsv` - тестовая выборка. В каждой строке через табуляцию записаны: *<вопрос>, <похожий вопрос>, <отрицательный пример 1>, <отрицательный пример 2>, ...*"
   ]
  },
  {
   "cell_type": "markdown",
   "metadata": {},
   "source": [
    "Будем использовать предобученные векторные представления слов [GoogleNews-vectors-negative300](https://drive.google.com/file/d/0B7XkCwpI5KDYNlNUTTlSS21pQmM/edit) (<b>скачаем их</b>), которые были обучены с помощью стандартной модели word2vec на данных Google News (100 миллиардов слов). Модель содержит 300-мерные вектора для 3 миллионов слов и фраз"
   ]
  },
  {
   "cell_type": "markdown",
   "metadata": {},
   "source": [
    "<b>Загрузим</b> их после <b>скачивания</b> с помощью функции [KeyedVectors.load_word2vec_format](https://radimrehurek.com/gensim/models/keyedvectors.html) библиотеки Gensim, с которой вы познакомились на семинаре. Загрузим только часть векторов, указав параметр *limit* = 500000."
   ]
  },
  {
   "cell_type": "code",
   "execution_count": null,
   "metadata": {},
   "outputs": [],
   "source": [
    "import gensim"
   ]
  },
  {
   "cell_type": "code",
   "execution_count": 2,
   "metadata": {},
   "outputs": [
    {
     "name": "stderr",
     "output_type": "stream",
     "text": [
      "/Users/bootcamp/anaconda3/lib/python3.7/site-packages/smart_open/smart_open_lib.py:398: UserWarning: This function is deprecated, use smart_open.open instead. See the migration notes for details: https://github.com/RaRe-Technologies/smart_open/blob/master/README.rst#migrating-to-the-new-open-function\n",
      "  'See the migration notes for details: %s' % _MIGRATION_NOTES_URL\n"
     ]
    }
   ],
   "source": [
    "wv_embeddings = gensim.models.KeyedVectors.load_word2vec_format(fname='GoogleNews-vectors-negative300.bin', limit=500000, binary=True)"
   ]
  },
  {
   "cell_type": "markdown",
   "metadata": {},
   "source": [
    "### Как пользоваться этими векторами?"
   ]
  },
  {
   "cell_type": "markdown",
   "metadata": {},
   "source": [
    "Посмотрим на примере одного слова, что из себя представляет embedding"
   ]
  },
  {
   "cell_type": "code",
   "execution_count": 3,
   "metadata": {
    "scrolled": true
   },
   "outputs": [],
   "source": [
    "word = 'dog'\n",
    "if word in wv_embeddings:\n",
    "    print(wv_embeddings[word].dtype, wv_embeddings[word].shape)"
   ]
  },
  {
   "cell_type": "markdown",
   "metadata": {},
   "source": [
    "<b>Еще раз напомню, что семинар нужно прочитать"
   ]
  },
  {
   "cell_type": "markdown",
   "metadata": {},
   "source": [
    "Найдем наиболее близкие слова к слову `dog`:"
   ]
  },
  {
   "cell_type": "markdown",
   "metadata": {
    "colab_type": "text",
    "id": "n08z2PjMwC5o"
   },
   "source": [
    "### Вопрос 1:\n",
    "* Входит ли слов `cat` топ-5 близких слов к слову `dog`?"
   ]
  },
  {
   "cell_type": "code",
   "execution_count": 4,
   "metadata": {
    "scrolled": true
   },
   "outputs": [],
   "source": [
    "wv_embeddings.'''your code'''"
   ]
  },
  {
   "cell_type": "markdown",
   "metadata": {},
   "source": [
    "### Векторные представления текста\n",
    "\n",
    "Перейдем от векторных представлений отдельных слов к векторным представлениям вопросов, как к **среднему** векторов всех слов в вопросе. Если для какого-то слова нет предобученного вектора, то его нужно пропустить. Если вопрос не содержит ни одного известного слова, то нужно вернуть нулевой вектор."
   ]
  },
  {
   "cell_type": "code",
   "execution_count": 5,
   "metadata": {},
   "outputs": [],
   "source": [
    "import numpy as np\n",
    "from nltk.tokenize import WordPunctTokenizer\n",
    "tokenizer = WordPunctTokenizer()"
   ]
  },
  {
   "cell_type": "code",
   "execution_count": 6,
   "metadata": {},
   "outputs": [],
   "source": [
    "def question_to_vec(question, embeddings, dim=300):\n",
    "    \"\"\"\n",
    "        question: строка\n",
    "        embeddings: наше векторное представление\n",
    "        dim: размер любого вектора в нашем представлении\n",
    "        \n",
    "        return: векторное представление для вопроса\n",
    "    \"\"\"\n",
    "    \n",
    "    # убрать знак вопроса, если он есть\n",
    "    words = '''your code'''\n",
    "    n_known = 0\n",
    "    result = np.array([0] * dim, dtype=float)\n",
    "    \n",
    "    for word in words:\n",
    "        if word in embeddings:\n",
    "            result += '''your code'''\n",
    "            n_known += 1\n",
    "            \n",
    "    if n_known != 0:\n",
    "        return '''your code'''\n",
    "    else:\n",
    "        return result"
   ]
  },
  {
   "cell_type": "markdown",
   "metadata": {},
   "source": [
    "Теперь у нас есть метод для создания векторного представления любого предложения."
   ]
  },
  {
   "cell_type": "markdown",
   "metadata": {
    "colab_type": "text",
    "id": "n08z2PjMwC5o"
   },
   "source": [
    "### Вопрос 2:\n",
    "* Какая третья(с индексом 2) компонента вектора предложения `I love neural networks` (округлите математически до 2 знаков после запятой)?"
   ]
  },
  {
   "cell_type": "code",
   "execution_count": 7,
   "metadata": {
    "scrolled": true
   },
   "outputs": [
    {
     "data": {
      "text/plain": [
       "0.017333984375"
      ]
     },
     "execution_count": 7,
     "metadata": {},
     "output_type": "execute_result"
    }
   ],
   "source": [
    "'''your code'''"
   ]
  },
  {
   "cell_type": "markdown",
   "metadata": {},
   "source": [
    "### Оценка близости текстов\n",
    "\n",
    "Представим, что мы используем идеальные векторные представления слов. Тогда косинусное расстояние между дублирующими предложениями должно быть меньше, чем между случайно взятыми предложениями. \n",
    "\n",
    "Сгенерируем для каждого из $N$ вопросов $R$ случайных отрицательных примеров и примешаем к ним также настоящие дубликаты. Для каждого вопроса будем ранжировать с помощью нашей модели $R + 1$ примеров и смотреть на позицию дубликата. Мы хотим, чтобы дубликат был первым в ранжированном списке.\n",
    "\n",
    "#### Hits@K\n",
    "Первой простой метрикой будет количество корректных попаданий для какого-то $K$:\n",
    "$$ \\text{Hits@K} = \\frac{1}{N}\\sum_{i=1}^N \\, [rank\\_q_i^{'} \\le K],$$\n",
    "* $q_i$ - $i$-ый вопрос\n",
    "* $q_i^{'}$ - его дубликат\n",
    "* $rank\\_q_i^{'}$ - позиция дубликата в ранжированном списке ближайших предложений для вопроса $q_i$.\n",
    "\n",
    "#### DCG@K\n",
    "Второй метрикой будет упрощенная DCG метрика, учитывающая порядок элементов в списке путем домножения релевантности элемента на вес равный обратному логарифму номера позиции::\n",
    "$$ \\text{DCG@K} = \\frac{1}{N} \\sum_{i=1}^N\\frac{1}{\\log_2(1+rank\\_q_i^{'})}\\cdot[rank\\_q_i^{'} \\le K],$$\n",
    "С такой метрикой модель штрафуется за низкую позицию корректного ответа"
   ]
  },
  {
   "cell_type": "markdown",
   "metadata": {
    "colab_type": "text",
    "id": "n08z2PjMwC5o"
   },
   "source": [
    "### Вопрос 3:\n",
    "* Максимум `Hits@47 - DCG@1`?"
   ]
  },
  {
   "cell_type": "markdown",
   "metadata": {},
   "source": [
    "<img src='https://hsto.org/files/1c5/edf/dee/1c5edfdeebce4b71a86bdf986d9f88f2.jpg' width=400, height=200>"
   ]
  },
  {
   "cell_type": "markdown",
   "metadata": {},
   "source": [
    "#### Пример оценок\n",
    "\n",
    "Вычислим описанные выше метрики для игрушечного примера. \n",
    "Пусть\n",
    "* $N = 1$, $R = 3$\n",
    "* <font color='green'>\"Что такое python\"</font> - вопрос $q_1$\n",
    "* <font color='red'>\"Что такое язык python\"</font> - его дубликат $q_i^{'}$\n",
    "\n",
    "Пусть модель выдала следующий ранжированный список кандидатов:\n",
    "\n",
    "1. *\"Как узнать с++\"*\n",
    "2. <font color='red'>*\"Что такое язык python\"*</font>\n",
    "3. *\"Хочу учить Java\"*\n",
    "4. *\"Не понимаю Tensorflow\"*\n",
    "\n",
    "$\\Rightarrow rank\\_q_i^{'} = 2$\n",
    "\n",
    "Вычислим метрику *Hits@K* для *K = 1, 4*:\n",
    "\n",
    "- [K = 1] $\\text{Hits@1} =  [rank\\_q_i^{'} \\le 1)] = 0$\n",
    "- [K = 4] $\\text{Hits@4} =  [rank\\_q_i^{'} \\le 4] = 1$\n",
    "\n",
    "Вычислим метрику *DCG@K* для *K = 1, 4*:\n",
    "- [K = 1] $\\text{DCG@1} = \\frac{1}{\\log_2(1+2)}\\cdot[2 \\le 1] = 0$\n",
    "- [K = 4] $\\text{DCG@4} = \\frac{1}{\\log_2(1+2)}\\cdot[2 \\le 4] = \\frac{1}{\\log_2{3}}$"
   ]
  },
  {
   "cell_type": "markdown",
   "metadata": {
    "colab_type": "text",
    "id": "n08z2PjMwC5o"
   },
   "source": [
    "### Вопрос 4:\n",
    "* Вычислите `DCG@10`, если $rank\\_q_i^{'} = 9$(округлите математически до одного знака после запятой)"
   ]
  },
  {
   "cell_type": "markdown",
   "metadata": {},
   "source": [
    "### HITS\\_COUNT и DCG\\_SCORE"
   ]
  },
  {
   "cell_type": "markdown",
   "metadata": {},
   "source": [
    "Каждая функция имеет два аргумента: $dup\\_ranks$ и $k$. $dup\\_ranks$ является списком, который содержит рейтинги дубликатов $rank\\_q_i^{'}$(их позиции в ранжированном списке). Например, $dup\\_ranks = [2]$ для примера, описанного выше."
   ]
  },
  {
   "cell_type": "code",
   "execution_count": 8,
   "metadata": {},
   "outputs": [],
   "source": [
    "def hits_count(dup_ranks, k):\n",
    "    \"\"\"\n",
    "        result: вернуть  Hits@k\n",
    "    \"\"\"\n",
    "    N = len(dup_ranks)\n",
    "    hits_value = '''your code'''\n",
    "    return hits_value    "
   ]
  },
  {
   "cell_type": "code",
   "execution_count": 9,
   "metadata": {},
   "outputs": [],
   "source": [
    "def dcg_score(dup_ranks, k):\n",
    "    \"\"\"\n",
    "        result: вернуть DCG@k\n",
    "    \"\"\"\n",
    "    new_dup_ranks = np.array(dup_ranks)\n",
    "    N = len(dup_ranks)\n",
    "    dcg_value = '''your code'''\n",
    "    return dcg_value"
   ]
  },
  {
   "cell_type": "markdown",
   "metadata": {},
   "source": [
    "Протестируем функции. Пусть $N = 1$, то есть один эксперимент. Будем искать копию вопроса и оценивать метрики."
   ]
  },
  {
   "cell_type": "code",
   "execution_count": 10,
   "metadata": {},
   "outputs": [],
   "source": [
    "import pandas as pd"
   ]
  },
  {
   "cell_type": "code",
   "execution_count": 11,
   "metadata": {},
   "outputs": [
    {
     "name": "stdout",
     "output_type": "stream",
     "text": [
      "Ваш ответ HIT: [0.0, 1.0, 1.0, 1.0]\n",
      "Ваш ответ DCG: [0.0, 0.63093, 0.63093, 0.63093]\n"
     ]
    }
   ],
   "source": [
    "copy_answers = [\"How does the catch keyword determine the type of exception that was thrown\"]\n",
    "\n",
    "# наги кандидаты\n",
    "candidates_ranking = [[\"How Can I Make These Links Rotate in PHP\",\n",
    "                       \"How does the catch keyword determine the type of exception that was thrown\",\n",
    "                       \"NSLog array description not memory address\",\n",
    "                       \"PECL_HTTP not recognised php ubuntu\"]]\n",
    "# dup_ranks — позиции наших копий, так как эксперимент один, то этот массив длины 1\n",
    "dup_ranks = ['''your code'''.index(copy_answers[i]) + 1 for i in range(len(copy_answers))]\n",
    "\n",
    "# вычисляем метрику для разных k\n",
    "print('Ваш ответ HIT:', ['''your code''' for k in range(1, 5)])\n",
    "print('Ваш ответ DCG:', [round('''your code''', 5) for k in range(1, 5)])"
   ]
  },
  {
   "cell_type": "markdown",
   "metadata": {},
   "source": [
    "У вас должно получиться"
   ]
  },
  {
   "cell_type": "code",
   "execution_count": 12,
   "metadata": {
    "scrolled": true
   },
   "outputs": [
    {
     "data": {
      "text/html": [
       "<div>\n",
       "<style scoped>\n",
       "    .dataframe tbody tr th:only-of-type {\n",
       "        vertical-align: middle;\n",
       "    }\n",
       "\n",
       "    .dataframe tbody tr th {\n",
       "        vertical-align: top;\n",
       "    }\n",
       "\n",
       "    .dataframe thead th {\n",
       "        text-align: right;\n",
       "    }\n",
       "</style>\n",
       "<table border=\"1\" class=\"dataframe\">\n",
       "  <thead>\n",
       "    <tr style=\"text-align: right;\">\n",
       "      <th></th>\n",
       "      <th>1</th>\n",
       "      <th>2</th>\n",
       "      <th>3</th>\n",
       "      <th>4</th>\n",
       "    </tr>\n",
       "  </thead>\n",
       "  <tbody>\n",
       "    <tr>\n",
       "      <th>HITS</th>\n",
       "      <td>0</td>\n",
       "      <td>1.00000</td>\n",
       "      <td>1.00000</td>\n",
       "      <td>1.00000</td>\n",
       "    </tr>\n",
       "    <tr>\n",
       "      <th>DCG</th>\n",
       "      <td>0</td>\n",
       "      <td>0.63093</td>\n",
       "      <td>0.63093</td>\n",
       "      <td>0.63093</td>\n",
       "    </tr>\n",
       "  </tbody>\n",
       "</table>\n",
       "</div>"
      ],
      "text/plain": [
       "      1        2        3        4\n",
       "HITS  0  1.00000  1.00000  1.00000\n",
       "DCG   0  0.63093  0.63093  0.63093"
      ]
     },
     "execution_count": 12,
     "metadata": {},
     "output_type": "execute_result"
    }
   ],
   "source": [
    "# correct_answers - метрика для разных k\n",
    "correct_answers = pd.DataFrame([[0, 1, 1, 1], [0, 1 / (np.log2(3)), 1 / (np.log2(3)), 1 / (np.log2(3))]],\n",
    "                               index=['HITS', 'DCG'], columns=range(1,5))\n",
    "correct_answers"
   ]
  },
  {
   "cell_type": "markdown",
   "metadata": {},
   "source": [
    "### Ранжирование вопросов StackOverflow\n",
    "\n",
    "- *тестовая* выборка (test.tsv) содержит в каждой строке: *вопрос, похожий вопрос, отрицательный пример 1, отрицательный пример 2, ...*\n",
    "TEST!!!"
   ]
  },
  {
   "cell_type": "markdown",
   "metadata": {},
   "source": [
    "Считаем тестовую выборку для оценки качества текущего решения."
   ]
  },
  {
   "cell_type": "code",
   "execution_count": 13,
   "metadata": {},
   "outputs": [],
   "source": [
    "def read_corpus(filename):\n",
    "    data = []\n",
    "    for line in open(filename, encoding='utf-8'):\n",
    "        data.append(line.strip().split('\\t'))\n",
    "    return data"
   ]
  },
  {
   "cell_type": "markdown",
   "metadata": {},
   "source": [
    "Данные нужно скачать отсюда и положить в папку с данным .ipynb:\n",
    "\n",
    "https://drive.google.com/file/d/1J3pLVNi-EVe0lP1OSMo093oxjmiR8FtK/view?usp=sharing"
   ]
  },
  {
   "cell_type": "code",
   "execution_count": 14,
   "metadata": {},
   "outputs": [],
   "source": [
    "test = read_corpus('test.tsv')"
   ]
  },
  {
   "cell_type": "markdown",
   "metadata": {},
   "source": [
    "Кол-во строк"
   ]
  },
  {
   "cell_type": "code",
   "execution_count": 15,
   "metadata": {
    "scrolled": false
   },
   "outputs": [
    {
     "data": {
      "text/plain": [
       "3760"
      ]
     },
     "execution_count": 15,
     "metadata": {},
     "output_type": "execute_result"
    }
   ],
   "source": [
    "len(test)"
   ]
  },
  {
   "cell_type": "markdown",
   "metadata": {},
   "source": [
    "Размер нескольких первых строк"
   ]
  },
  {
   "cell_type": "code",
   "execution_count": 16,
   "metadata": {},
   "outputs": [
    {
     "name": "stdout",
     "output_type": "stream",
     "text": [
      "1 1001\n",
      "2 1001\n",
      "3 1001\n",
      "4 1001\n",
      "5 1001\n"
     ]
    }
   ],
   "source": [
    "for i in range(5):\n",
    "    print(i + 1, len(test[0]))"
   ]
  },
  {
   "cell_type": "markdown",
   "metadata": {},
   "source": [
    "Реализуйте функцию ранжирования кандидатов на основе косинусного расстояния. Функция должна по списку кандидатов вернуть отсортированный список пар (позиция в исходном списке кандидатов, кандидат). При этом позиция кандидата в полученном списке является его рейтингом (первый - лучший). Например, если исходный список кандидатов был [a, b, c], и самый похожий на исходный вопрос среди них - c, затем a, и в конце b, то функция должна вернуть список *[(2, c), (0, a), (1, b)]*."
   ]
  },
  {
   "cell_type": "code",
   "execution_count": 17,
   "metadata": {},
   "outputs": [],
   "source": [
    "from sklearn.metrics.pairwise import cosine_similarity\n",
    "from copy import deepcopy"
   ]
  },
  {
   "cell_type": "code",
   "execution_count": 18,
   "metadata": {},
   "outputs": [],
   "source": [
    "def rank_candidates(question, candidates, embeddings, dim=300):\n",
    "    \"\"\"\n",
    "        question: строка\n",
    "        candidates: массив строк(кандидатов) [a, b, c]\n",
    "        result: пары (начальная позиция, кандидат) [(2, c), (0, a), (1, b)]\n",
    "    \"\"\"\n",
    "    vec_question = question_to_vec(question, embeddings)\n",
    "    vec_candidates = np.array([question_to_vec(candidates[i], embeddings)\n",
    "                      for i in range(len(candidates))])\n",
    "    rank_candidates = np.array([(i, candidates[i]) for i in range(len(candidates))])\n",
    "    # ранжирование\n",
    "    dist_s = cosine_similarity(vec_candidates, np.array([vec_question]))[:, 0]\n",
    "    return deepcopy(rank_candidates[dist_s.argsort()[::-1]])"
   ]
  },
  {
   "cell_type": "markdown",
   "metadata": {},
   "source": [
    "Протестируйте работу функции на примерах ниже. Пусть $N=2$, то есть два эксперимента"
   ]
  },
  {
   "cell_type": "code",
   "execution_count": 19,
   "metadata": {},
   "outputs": [],
   "source": [
    "questions = ['converting string to list', 'Sending array via Ajax fails'] \n",
    "\n",
    "candidates = [['Convert Google results object (pure js) to Python object', # первый эксперимент\n",
    "               'C# create cookie from string and send it',\n",
    "               'How to use jQuery AJAX for an outside domain?'],\n",
    "              \n",
    "              ['Getting all list items of an unordered list in PHP',      # второй эксперимент\n",
    "               'WPF- How to update the changes in list item of a list',\n",
    "               'select2 not displaying search results']]"
   ]
  },
  {
   "cell_type": "code",
   "execution_count": 20,
   "metadata": {},
   "outputs": [
    {
     "name": "stdout",
     "output_type": "stream",
     "text": [
      "[['1' 'C# create cookie from string and send it']\n",
      " ['0' 'Convert Google results object (pure js) to Python object']\n",
      " ['2' 'How to use jQuery AJAX for an outside domain?']]\n",
      "\n",
      "[['0' 'Getting all list items of an unordered list in PHP']\n",
      " ['2' 'select2 not displaying search results']\n",
      " ['1' 'WPF- How to update the changes in list item of a list']]\n",
      "\n"
     ]
    }
   ],
   "source": [
    "for question, q_candidates in zip(questions, candidates):\n",
    "        ranks = rank_candidates(question, q_candidates, wv_embeddings, 300)\n",
    "        print(ranks)\n",
    "        print()\n"
   ]
  },
  {
   "cell_type": "markdown",
   "metadata": {},
   "source": [
    "Для первого экперимента вы можете полностью сравнить ваши ответы и правильные ответы. Но для второго эксперимента два ответа на кандидаты будут <b>скрыты</b>(*)"
   ]
  },
  {
   "cell_type": "code",
   "execution_count": 21,
   "metadata": {},
   "outputs": [],
   "source": [
    "# должно вывести\n",
    "results = [[(1, 'C# create cookie from string and send it'),\n",
    "            (0, 'Convert Google results object (pure js) to Python object'),\n",
    "            (2, 'How to use jQuery AJAX for an outside domain?')],\n",
    "           [(0, 'Getting all list items of an unordered list in PHP'),\n",
    "            (2, 'select2 not displaying search results'), #скрыт\n",
    "            (1, 'WPF- How to update the changes in list item of a list')]] #скрыт"
   ]
  },
  {
   "cell_type": "markdown",
   "metadata": {},
   "source": [
    "Последовательность начальных индексов вы должны получить `для эксперимента 1`  1, 0, 2. Для второго экперимента вы знаете один индекс уже."
   ]
  },
  {
   "cell_type": "markdown",
   "metadata": {
    "colab_type": "text",
    "id": "n08z2PjMwC5o"
   },
   "source": [
    "### Вопрос 5:\n",
    "* Какую последовательность начальных индексов вы получили `для эксперимента 2`(перечисление без запятой и пробелов, например, `102` для первого эксперимента?"
   ]
  },
  {
   "cell_type": "markdown",
   "metadata": {},
   "source": [
    "021"
   ]
  },
  {
   "cell_type": "markdown",
   "metadata": {},
   "source": [
    "Теперь мы можем оценить качество нашего метода. Запустите следующие два блока кода для получения результата. Обратите внимание, что вычисление расстояния между векторами занимает некоторое время (примерно 10 минут)."
   ]
  },
  {
   "cell_type": "code",
   "execution_count": 22,
   "metadata": {},
   "outputs": [],
   "source": [
    "wv_ranking = []\n",
    "for line in test:\n",
    "    q, *ex = line\n",
    "    ranks = rank_candidates(q, ex, wv_embeddings)\n",
    "    wv_ranking.append([r[0] for r in ranks].index('0') + 1)"
   ]
  },
  {
   "cell_type": "code",
   "execution_count": 23,
   "metadata": {
    "scrolled": true
   },
   "outputs": [
    {
     "name": "stdout",
     "output_type": "stream",
     "text": [
      "DCG@   1: 0.260 | Hits@   1: 0.260\n",
      "DCG@   5: 0.314 | Hits@   5: 0.364\n",
      "DCG@  10: 0.332 | Hits@  10: 0.419\n",
      "DCG@ 100: 0.374 | Hits@ 100: 0.626\n",
      "DCG@ 500: 0.401 | Hits@ 500: 0.839\n",
      "DCG@1000: 0.418 | Hits@1000: 1.000\n"
     ]
    }
   ],
   "source": [
    "for k in [1, 5, 10, 100, 500, 1000]:\n",
    "    print(\"DCG@%4d: %.3f | Hits@%4d: %.3f\" % (k, dcg_score(wv_ranking, k), k, hits_count(wv_ranking, k)))"
   ]
  },
  {
   "cell_type": "markdown",
   "metadata": {
    "colab_type": "text",
    "id": "n08z2PjMwC5o"
   },
   "source": [
    "### Вопрос 6:\n",
    "* Какой Hits@500 вы получили?"
   ]
  },
  {
   "cell_type": "code",
   "execution_count": 24,
   "metadata": {},
   "outputs": [
    {
     "data": {
      "text/plain": [
       "0.839"
      ]
     },
     "execution_count": 24,
     "metadata": {},
     "output_type": "execute_result"
    }
   ],
   "source": [
    "0.839"
   ]
  },
  {
   "cell_type": "markdown",
   "metadata": {
    "colab_type": "text",
    "id": "n08z2PjMwC5o"
   },
   "source": [
    "### Вопрос 7:\n",
    "* Какой DCG@500 вы получили?"
   ]
  },
  {
   "cell_type": "code",
   "execution_count": 25,
   "metadata": {},
   "outputs": [
    {
     "data": {
      "text/plain": [
       "0.401"
      ]
     },
     "execution_count": 25,
     "metadata": {},
     "output_type": "execute_result"
    }
   ],
   "source": [
    "0.401"
   ]
  },
  {
   "cell_type": "markdown",
   "metadata": {},
   "source": [
    "Если вы проделали все шаги правильно, то вы должны немного разочароваться полученными результатами. Давайте попробуем понять, почему качество модели такое низкое. Когда вы работаете с какими-либо данными, очень полезно первым делом посмотреть на них глазами. Выведим несколько вопросов из наших данных:"
   ]
  },
  {
   "cell_type": "code",
   "execution_count": 26,
   "metadata": {},
   "outputs": [
    {
     "name": "stdout",
     "output_type": "stream",
     "text": [
      "How to print a binary heap tree without recursion? How do you best convert a recursive function to an iterative one? How can i use ng-model with directive in angular js flash: drawing and erasing\n",
      "\n",
      "How to start PhoneStateListener programmatically? PhoneStateListener and service Java cast object[] to model WCF and What does this mean?\n",
      "\n",
      "jQuery: Show a div2 when mousenter over div1 is over when hover on div1 depenting on if it is on div2 or not it should act differently How to run selenium in google app engine/cloud? Python Comparing two lists of strings for similarities\n",
      "\n"
     ]
    }
   ],
   "source": [
    "for line in test[:3]:\n",
    "    q, *examples = line\n",
    "    print(q, *examples[:3])\n",
    "    print()"
   ]
  },
  {
   "cell_type": "markdown",
   "metadata": {},
   "source": [
    "Как вы можете заметить, мы имеем дело с сырыми данными. Это означает, что там присутствует много опечаток, спецсимволов и заглавных букв. В нашем случае это все может привести к ситуации, когда для данных токенов нет предобученных векторов. Поэтому необходима предобработка.\n",
    "\n",
    "Реализуйем функцию предобработки текстов. Вам требуется:\n",
    "- Перевести символы в нижний регистр;\n",
    "- Заменить символы пунктуации на пробелы;\n",
    "- Удалить \"плохие\" символы;\n",
    "- Удалить стопслова."
   ]
  },
  {
   "cell_type": "code",
   "execution_count": 27,
   "metadata": {
    "scrolled": true
   },
   "outputs": [
    {
     "name": "stderr",
     "output_type": "stream",
     "text": [
      "[nltk_data] Error loading stopwords: <urlopen error [SSL:\n",
      "[nltk_data]     CERTIFICATE_VERIFY_FAILED] certificate verify failed:\n",
      "[nltk_data]     self signed certificate in certificate chain\n",
      "[nltk_data]     (_ssl.c:1056)>\n"
     ]
    }
   ],
   "source": [
    "import re\n",
    "import nltk\n",
    "import string\n",
    "nltk.download('stopwords')\n",
    "from nltk.corpus import stopwords"
   ]
  },
  {
   "cell_type": "markdown",
   "metadata": {},
   "source": [
    "Кол-во стоп стопслов"
   ]
  },
  {
   "cell_type": "code",
   "execution_count": 28,
   "metadata": {},
   "outputs": [
    {
     "data": {
      "text/plain": [
       "179"
      ]
     },
     "execution_count": 28,
     "metadata": {},
     "output_type": "execute_result"
    }
   ],
   "source": [
    "stopWords = set(stopwords.words('english'))\n",
    "len(stopWords)"
   ]
  },
  {
   "cell_type": "code",
   "execution_count": 29,
   "metadata": {},
   "outputs": [],
   "source": [
    "def text_prepare(text):\n",
    "    \"\"\"\n",
    "        text: a string\n",
    "        \n",
    "        return: modified string\n",
    "    \"\"\"\n",
    "    # Перевести символы в нижний регистр\n",
    "    text = text.lower()\n",
    "    \n",
    "    # Заменить символы пунктуации на пробелы\n",
    "    text = re.sub(r'[{}]'.format(string.punctuation), ' ', text)\n",
    "    \n",
    "    # Удалить \"плохие\" символы\n",
    "    text = re.sub('[^A-Za-z0-9 ]', '', text)\n",
    "    \n",
    "    # Удалить стопслова.\n",
    "    words = filter(lambda w: w not in stopWords, map(lambda x: x.strip(), text.split(\" \")))\n",
    "    return \" \".join(words)"
   ]
  },
  {
   "cell_type": "markdown",
   "metadata": {},
   "source": [
    "Теперь преобразуйте все вопросы из тестовой выборки. Оцените, как изменилось качество. Сделайте выводы. Для изменения текста понадобиться около 30 минут."
   ]
  },
  {
   "cell_type": "code",
   "execution_count": 30,
   "metadata": {},
   "outputs": [],
   "source": [
    "from tqdm import tqdm_notebook\n",
    "from copy import deepcopy\n",
    "new_test = deepcopy(test)\n",
    "for i in range(len(test)):\n",
    "    for j in range(len(test[i])):\n",
    "        new_test[i][j] = text_prepare(test[i][j])"
   ]
  },
  {
   "cell_type": "code",
   "execution_count": 31,
   "metadata": {
    "scrolled": true
   },
   "outputs": [],
   "source": [
    "wv_ranking = []\n",
    "for line in new_test:\n",
    "    q, *ex = line\n",
    "    ranks = rank_candidates(q, ex, wv_embeddings)\n",
    "    wv_ranking.append([r[0] for r in ranks].index('0') + 1)"
   ]
  },
  {
   "cell_type": "code",
   "execution_count": 32,
   "metadata": {
    "scrolled": true
   },
   "outputs": [
    {
     "name": "stdout",
     "output_type": "stream",
     "text": [
      "DCG@   1: 0.340 | Hits@   1: 0.340\n",
      "DCG@   5: 0.412 | Hits@   5: 0.477\n",
      "DCG@  10: 0.427 | Hits@  10: 0.523\n",
      "DCG@ 100: 0.463 | Hits@ 100: 0.702\n",
      "DCG@ 500: 0.482 | Hits@ 500: 0.855\n",
      "DCG@1000: 0.498 | Hits@1000: 1.000\n"
     ]
    }
   ],
   "source": [
    "for k in [1, 5, 10, 100, 500, 1000]:\n",
    "    print(\"DCG@%4d: %.3f | Hits@%4d: %.3f\" % (k, dcg_score(wv_ranking, k), k, hits_count(wv_ranking, k)))"
   ]
  },
  {
   "cell_type": "markdown",
   "metadata": {
    "colab_type": "text",
    "id": "n08z2PjMwC5o"
   },
   "source": [
    "### Вопрос 8:\n",
    "* Какой Hits@500 вы получили?"
   ]
  },
  {
   "cell_type": "code",
   "execution_count": 33,
   "metadata": {},
   "outputs": [
    {
     "data": {
      "text/plain": [
       "0.855"
      ]
     },
     "execution_count": 33,
     "metadata": {},
     "output_type": "execute_result"
    }
   ],
   "source": [
    "0.855"
   ]
  },
  {
   "cell_type": "markdown",
   "metadata": {
    "colab_type": "text",
    "id": "n08z2PjMwC5o"
   },
   "source": [
    "### Вопрос 9:\n",
    "* Какой DCG@500 вы получили?"
   ]
  },
  {
   "cell_type": "code",
   "execution_count": 34,
   "metadata": {},
   "outputs": [
    {
     "data": {
      "text/plain": [
       "0.482"
      ]
     },
     "execution_count": 34,
     "metadata": {},
     "output_type": "execute_result"
    }
   ],
   "source": [
    "0.482"
   ]
  },
  {
   "cell_type": "markdown",
   "metadata": {},
   "source": [
    "# Finally!.. Visualization! (Again..)"
   ]
  },
  {
   "cell_type": "markdown",
   "metadata": {},
   "source": [
    "Раз уж мы научились получать эмбеддинги предложений, а не только слов, давайте попробуем визуализировать эмбеддинги предложений!\n",
    "\n",
    "Функция получения эмбеддинга по предложению у нас уже есть (question_to_vec в начале ноутбука). Нам осталось выбрать, какой датасет мы будем использовать (quora.txt с семинара или stackoverflow из этого дз), и далее:\n",
    "\n",
    "1. Проделать предобработку вопросов (text_prepare, как выше)\n",
    "2. Для всех вопросов получить эмбединнги (question_to_vec)\n",
    "3. Применить к массиву эмбеддингов TSNE (как на семинаре)\n",
    "4. Не забыть нормализовать векторы, полученные из TSNE\n",
    "5. Запустить функцию draw из семинара!"
   ]
  },
  {
   "cell_type": "code",
   "execution_count": 46,
   "metadata": {},
   "outputs": [
    {
     "name": "stdout",
     "output_type": "stream",
     "text": [
      "[t-SNE] Computing 91 nearest neighbors...\n",
      "[t-SNE] Indexed 500 samples in 0.007s...\n",
      "[t-SNE] Computed neighbors for 500 samples in 0.138s...\n",
      "[t-SNE] Computed conditional probabilities for sample 500 / 500\n",
      "[t-SNE] Mean sigma: 0.421811\n",
      "[t-SNE] Computed conditional probabilities in 0.022s\n",
      "[t-SNE] Iteration 50: error = 101.4903870, gradient norm = 0.3000626 (50 iterations in 1.806s)\n",
      "[t-SNE] Iteration 100: error = 101.6995850, gradient norm = 0.2874914 (50 iterations in 1.325s)\n",
      "[t-SNE] Iteration 150: error = 107.3713379, gradient norm = 0.2665384 (50 iterations in 1.451s)\n",
      "[t-SNE] Iteration 200: error = 107.7701874, gradient norm = 0.2706095 (50 iterations in 1.490s)\n",
      "[t-SNE] Iteration 250: error = 106.5948410, gradient norm = 0.3029962 (50 iterations in 1.514s)\n",
      "[t-SNE] KL divergence after 250 iterations with early exaggeration: 106.594841\n",
      "[t-SNE] Iteration 300: error = 2.5253706, gradient norm = 0.0049212 (50 iterations in 1.134s)\n",
      "[t-SNE] Iteration 350: error = 2.1489985, gradient norm = 0.0019016 (50 iterations in 0.944s)\n",
      "[t-SNE] Iteration 400: error = 2.0147452, gradient norm = 0.0014284 (50 iterations in 0.902s)\n",
      "[t-SNE] Iteration 450: error = 1.8658042, gradient norm = 0.0022227 (50 iterations in 0.791s)\n",
      "[t-SNE] Iteration 500: error = 1.8239651, gradient norm = 0.0007086 (50 iterations in 0.760s)\n",
      "[t-SNE] Iteration 550: error = 1.7946769, gradient norm = 0.0010665 (50 iterations in 0.795s)\n",
      "[t-SNE] Iteration 600: error = 1.7723172, gradient norm = 0.0010948 (50 iterations in 0.722s)\n",
      "[t-SNE] Iteration 650: error = 1.7471991, gradient norm = 0.0007034 (50 iterations in 0.768s)\n",
      "[t-SNE] Iteration 700: error = 1.7270477, gradient norm = 0.0009471 (50 iterations in 0.769s)\n",
      "[t-SNE] Iteration 750: error = 1.7113087, gradient norm = 0.0010370 (50 iterations in 0.728s)\n",
      "[t-SNE] Iteration 800: error = 1.6979719, gradient norm = 0.0007687 (50 iterations in 0.850s)\n",
      "[t-SNE] Iteration 850: error = 1.6868829, gradient norm = 0.0005909 (50 iterations in 0.810s)\n",
      "[t-SNE] Iteration 900: error = 1.6795555, gradient norm = 0.0004288 (50 iterations in 0.800s)\n",
      "[t-SNE] Iteration 950: error = 1.6753585, gradient norm = 0.0002665 (50 iterations in 0.763s)\n",
      "[t-SNE] Iteration 1000: error = 1.6731601, gradient norm = 0.0002554 (50 iterations in 0.765s)\n",
      "[t-SNE] KL divergence after 1000 iterations: 1.673160\n"
     ]
    },
    {
     "data": {
      "text/html": [
       "\n",
       "    <div class=\"bk-root\">\n",
       "        <a href=\"https://bokeh.pydata.org\" target=\"_blank\" class=\"bk-logo bk-logo-small bk-logo-notebook\"></a>\n",
       "        <span id=\"1112\">Loading BokehJS ...</span>\n",
       "    </div>"
      ]
     },
     "metadata": {},
     "output_type": "display_data"
    },
    {
     "data": {
      "application/javascript": [
       "\n",
       "(function(root) {\n",
       "  function now() {\n",
       "    return new Date();\n",
       "  }\n",
       "\n",
       "  var force = true;\n",
       "\n",
       "  if (typeof (root._bokeh_onload_callbacks) === \"undefined\" || force === true) {\n",
       "    root._bokeh_onload_callbacks = [];\n",
       "    root._bokeh_is_loading = undefined;\n",
       "  }\n",
       "\n",
       "  var JS_MIME_TYPE = 'application/javascript';\n",
       "  var HTML_MIME_TYPE = 'text/html';\n",
       "  var EXEC_MIME_TYPE = 'application/vnd.bokehjs_exec.v0+json';\n",
       "  var CLASS_NAME = 'output_bokeh rendered_html';\n",
       "\n",
       "  /**\n",
       "   * Render data to the DOM node\n",
       "   */\n",
       "  function render(props, node) {\n",
       "    var script = document.createElement(\"script\");\n",
       "    node.appendChild(script);\n",
       "  }\n",
       "\n",
       "  /**\n",
       "   * Handle when an output is cleared or removed\n",
       "   */\n",
       "  function handleClearOutput(event, handle) {\n",
       "    var cell = handle.cell;\n",
       "\n",
       "    var id = cell.output_area._bokeh_element_id;\n",
       "    var server_id = cell.output_area._bokeh_server_id;\n",
       "    // Clean up Bokeh references\n",
       "    if (id != null && id in Bokeh.index) {\n",
       "      Bokeh.index[id].model.document.clear();\n",
       "      delete Bokeh.index[id];\n",
       "    }\n",
       "\n",
       "    if (server_id !== undefined) {\n",
       "      // Clean up Bokeh references\n",
       "      var cmd = \"from bokeh.io.state import curstate; print(curstate().uuid_to_server['\" + server_id + \"'].get_sessions()[0].document.roots[0]._id)\";\n",
       "      cell.notebook.kernel.execute(cmd, {\n",
       "        iopub: {\n",
       "          output: function(msg) {\n",
       "            var id = msg.content.text.trim();\n",
       "            if (id in Bokeh.index) {\n",
       "              Bokeh.index[id].model.document.clear();\n",
       "              delete Bokeh.index[id];\n",
       "            }\n",
       "          }\n",
       "        }\n",
       "      });\n",
       "      // Destroy server and session\n",
       "      var cmd = \"import bokeh.io.notebook as ion; ion.destroy_server('\" + server_id + \"')\";\n",
       "      cell.notebook.kernel.execute(cmd);\n",
       "    }\n",
       "  }\n",
       "\n",
       "  /**\n",
       "   * Handle when a new output is added\n",
       "   */\n",
       "  function handleAddOutput(event, handle) {\n",
       "    var output_area = handle.output_area;\n",
       "    var output = handle.output;\n",
       "\n",
       "    // limit handleAddOutput to display_data with EXEC_MIME_TYPE content only\n",
       "    if ((output.output_type != \"display_data\") || (!output.data.hasOwnProperty(EXEC_MIME_TYPE))) {\n",
       "      return\n",
       "    }\n",
       "\n",
       "    var toinsert = output_area.element.find(\".\" + CLASS_NAME.split(' ')[0]);\n",
       "\n",
       "    if (output.metadata[EXEC_MIME_TYPE][\"id\"] !== undefined) {\n",
       "      toinsert[toinsert.length - 1].firstChild.textContent = output.data[JS_MIME_TYPE];\n",
       "      // store reference to embed id on output_area\n",
       "      output_area._bokeh_element_id = output.metadata[EXEC_MIME_TYPE][\"id\"];\n",
       "    }\n",
       "    if (output.metadata[EXEC_MIME_TYPE][\"server_id\"] !== undefined) {\n",
       "      var bk_div = document.createElement(\"div\");\n",
       "      bk_div.innerHTML = output.data[HTML_MIME_TYPE];\n",
       "      var script_attrs = bk_div.children[0].attributes;\n",
       "      for (var i = 0; i < script_attrs.length; i++) {\n",
       "        toinsert[toinsert.length - 1].firstChild.setAttribute(script_attrs[i].name, script_attrs[i].value);\n",
       "      }\n",
       "      // store reference to server id on output_area\n",
       "      output_area._bokeh_server_id = output.metadata[EXEC_MIME_TYPE][\"server_id\"];\n",
       "    }\n",
       "  }\n",
       "\n",
       "  function register_renderer(events, OutputArea) {\n",
       "\n",
       "    function append_mime(data, metadata, element) {\n",
       "      // create a DOM node to render to\n",
       "      var toinsert = this.create_output_subarea(\n",
       "        metadata,\n",
       "        CLASS_NAME,\n",
       "        EXEC_MIME_TYPE\n",
       "      );\n",
       "      this.keyboard_manager.register_events(toinsert);\n",
       "      // Render to node\n",
       "      var props = {data: data, metadata: metadata[EXEC_MIME_TYPE]};\n",
       "      render(props, toinsert[toinsert.length - 1]);\n",
       "      element.append(toinsert);\n",
       "      return toinsert\n",
       "    }\n",
       "\n",
       "    /* Handle when an output is cleared or removed */\n",
       "    events.on('clear_output.CodeCell', handleClearOutput);\n",
       "    events.on('delete.Cell', handleClearOutput);\n",
       "\n",
       "    /* Handle when a new output is added */\n",
       "    events.on('output_added.OutputArea', handleAddOutput);\n",
       "\n",
       "    /**\n",
       "     * Register the mime type and append_mime function with output_area\n",
       "     */\n",
       "    OutputArea.prototype.register_mime_type(EXEC_MIME_TYPE, append_mime, {\n",
       "      /* Is output safe? */\n",
       "      safe: true,\n",
       "      /* Index of renderer in `output_area.display_order` */\n",
       "      index: 0\n",
       "    });\n",
       "  }\n",
       "\n",
       "  // register the mime type if in Jupyter Notebook environment and previously unregistered\n",
       "  if (root.Jupyter !== undefined) {\n",
       "    var events = require('base/js/events');\n",
       "    var OutputArea = require('notebook/js/outputarea').OutputArea;\n",
       "\n",
       "    if (OutputArea.prototype.mime_types().indexOf(EXEC_MIME_TYPE) == -1) {\n",
       "      register_renderer(events, OutputArea);\n",
       "    }\n",
       "  }\n",
       "\n",
       "  \n",
       "  if (typeof (root._bokeh_timeout) === \"undefined\" || force === true) {\n",
       "    root._bokeh_timeout = Date.now() + 5000;\n",
       "    root._bokeh_failed_load = false;\n",
       "  }\n",
       "\n",
       "  var NB_LOAD_WARNING = {'data': {'text/html':\n",
       "     \"<div style='background-color: #fdd'>\\n\"+\n",
       "     \"<p>\\n\"+\n",
       "     \"BokehJS does not appear to have successfully loaded. If loading BokehJS from CDN, this \\n\"+\n",
       "     \"may be due to a slow or bad network connection. Possible fixes:\\n\"+\n",
       "     \"</p>\\n\"+\n",
       "     \"<ul>\\n\"+\n",
       "     \"<li>re-rerun `output_notebook()` to attempt to load from CDN again, or</li>\\n\"+\n",
       "     \"<li>use INLINE resources instead, as so:</li>\\n\"+\n",
       "     \"</ul>\\n\"+\n",
       "     \"<code>\\n\"+\n",
       "     \"from bokeh.resources import INLINE\\n\"+\n",
       "     \"output_notebook(resources=INLINE)\\n\"+\n",
       "     \"</code>\\n\"+\n",
       "     \"</div>\"}};\n",
       "\n",
       "  function display_loaded() {\n",
       "    var el = document.getElementById(\"1112\");\n",
       "    if (el != null) {\n",
       "      el.textContent = \"BokehJS is loading...\";\n",
       "    }\n",
       "    if (root.Bokeh !== undefined) {\n",
       "      if (el != null) {\n",
       "        el.textContent = \"BokehJS \" + root.Bokeh.version + \" successfully loaded.\";\n",
       "      }\n",
       "    } else if (Date.now() < root._bokeh_timeout) {\n",
       "      setTimeout(display_loaded, 100)\n",
       "    }\n",
       "  }\n",
       "\n",
       "\n",
       "  function run_callbacks() {\n",
       "    try {\n",
       "      root._bokeh_onload_callbacks.forEach(function(callback) { callback() });\n",
       "    }\n",
       "    finally {\n",
       "      delete root._bokeh_onload_callbacks\n",
       "    }\n",
       "    console.info(\"Bokeh: all callbacks have finished\");\n",
       "  }\n",
       "\n",
       "  function load_libs(js_urls, callback) {\n",
       "    root._bokeh_onload_callbacks.push(callback);\n",
       "    if (root._bokeh_is_loading > 0) {\n",
       "      console.log(\"Bokeh: BokehJS is being loaded, scheduling callback at\", now());\n",
       "      return null;\n",
       "    }\n",
       "    if (js_urls == null || js_urls.length === 0) {\n",
       "      run_callbacks();\n",
       "      return null;\n",
       "    }\n",
       "    console.log(\"Bokeh: BokehJS not loaded, scheduling load and callback at\", now());\n",
       "    root._bokeh_is_loading = js_urls.length;\n",
       "    for (var i = 0; i < js_urls.length; i++) {\n",
       "      var url = js_urls[i];\n",
       "      var s = document.createElement('script');\n",
       "      s.src = url;\n",
       "      s.async = false;\n",
       "      s.onreadystatechange = s.onload = function() {\n",
       "        root._bokeh_is_loading--;\n",
       "        if (root._bokeh_is_loading === 0) {\n",
       "          console.log(\"Bokeh: all BokehJS libraries loaded\");\n",
       "          run_callbacks()\n",
       "        }\n",
       "      };\n",
       "      s.onerror = function() {\n",
       "        console.warn(\"failed to load library \" + url);\n",
       "      };\n",
       "      console.log(\"Bokeh: injecting script tag for BokehJS library: \", url);\n",
       "      document.getElementsByTagName(\"head\")[0].appendChild(s);\n",
       "    }\n",
       "  };var element = document.getElementById(\"1112\");\n",
       "  if (element == null) {\n",
       "    console.log(\"Bokeh: ERROR: autoload.js configured with elementid '1112' but no matching script tag was found. \")\n",
       "    return false;\n",
       "  }\n",
       "\n",
       "  var js_urls = [\"https://cdn.pydata.org/bokeh/release/bokeh-1.0.4.min.js\", \"https://cdn.pydata.org/bokeh/release/bokeh-widgets-1.0.4.min.js\", \"https://cdn.pydata.org/bokeh/release/bokeh-tables-1.0.4.min.js\", \"https://cdn.pydata.org/bokeh/release/bokeh-gl-1.0.4.min.js\"];\n",
       "\n",
       "  var inline_js = [\n",
       "    function(Bokeh) {\n",
       "      Bokeh.set_log_level(\"info\");\n",
       "    },\n",
       "    \n",
       "    function(Bokeh) {\n",
       "      \n",
       "    },\n",
       "    function(Bokeh) {\n",
       "      console.log(\"Bokeh: injecting CSS: https://cdn.pydata.org/bokeh/release/bokeh-1.0.4.min.css\");\n",
       "      Bokeh.embed.inject_css(\"https://cdn.pydata.org/bokeh/release/bokeh-1.0.4.min.css\");\n",
       "      console.log(\"Bokeh: injecting CSS: https://cdn.pydata.org/bokeh/release/bokeh-widgets-1.0.4.min.css\");\n",
       "      Bokeh.embed.inject_css(\"https://cdn.pydata.org/bokeh/release/bokeh-widgets-1.0.4.min.css\");\n",
       "      console.log(\"Bokeh: injecting CSS: https://cdn.pydata.org/bokeh/release/bokeh-tables-1.0.4.min.css\");\n",
       "      Bokeh.embed.inject_css(\"https://cdn.pydata.org/bokeh/release/bokeh-tables-1.0.4.min.css\");\n",
       "    }\n",
       "  ];\n",
       "\n",
       "  function run_inline_js() {\n",
       "    \n",
       "    if ((root.Bokeh !== undefined) || (force === true)) {\n",
       "      for (var i = 0; i < inline_js.length; i++) {\n",
       "        inline_js[i].call(root, root.Bokeh);\n",
       "      }if (force === true) {\n",
       "        display_loaded();\n",
       "      }} else if (Date.now() < root._bokeh_timeout) {\n",
       "      setTimeout(run_inline_js, 100);\n",
       "    } else if (!root._bokeh_failed_load) {\n",
       "      console.log(\"Bokeh: BokehJS failed to load within specified timeout.\");\n",
       "      root._bokeh_failed_load = true;\n",
       "    } else if (force !== true) {\n",
       "      var cell = $(document.getElementById(\"1112\")).parents('.cell').data().cell;\n",
       "      cell.output_area.append_execute_result(NB_LOAD_WARNING)\n",
       "    }\n",
       "\n",
       "  }\n",
       "\n",
       "  if (root._bokeh_is_loading === 0) {\n",
       "    console.log(\"Bokeh: BokehJS loaded, going straight to plotting\");\n",
       "    run_inline_js();\n",
       "  } else {\n",
       "    load_libs(js_urls, function() {\n",
       "      console.log(\"Bokeh: BokehJS plotting callback run at\", now());\n",
       "      run_inline_js();\n",
       "    });\n",
       "  }\n",
       "}(window));"
      ],
      "application/vnd.bokehjs_load.v0+json": "\n(function(root) {\n  function now() {\n    return new Date();\n  }\n\n  var force = true;\n\n  if (typeof (root._bokeh_onload_callbacks) === \"undefined\" || force === true) {\n    root._bokeh_onload_callbacks = [];\n    root._bokeh_is_loading = undefined;\n  }\n\n  \n\n  \n  if (typeof (root._bokeh_timeout) === \"undefined\" || force === true) {\n    root._bokeh_timeout = Date.now() + 5000;\n    root._bokeh_failed_load = false;\n  }\n\n  var NB_LOAD_WARNING = {'data': {'text/html':\n     \"<div style='background-color: #fdd'>\\n\"+\n     \"<p>\\n\"+\n     \"BokehJS does not appear to have successfully loaded. If loading BokehJS from CDN, this \\n\"+\n     \"may be due to a slow or bad network connection. Possible fixes:\\n\"+\n     \"</p>\\n\"+\n     \"<ul>\\n\"+\n     \"<li>re-rerun `output_notebook()` to attempt to load from CDN again, or</li>\\n\"+\n     \"<li>use INLINE resources instead, as so:</li>\\n\"+\n     \"</ul>\\n\"+\n     \"<code>\\n\"+\n     \"from bokeh.resources import INLINE\\n\"+\n     \"output_notebook(resources=INLINE)\\n\"+\n     \"</code>\\n\"+\n     \"</div>\"}};\n\n  function display_loaded() {\n    var el = document.getElementById(\"1112\");\n    if (el != null) {\n      el.textContent = \"BokehJS is loading...\";\n    }\n    if (root.Bokeh !== undefined) {\n      if (el != null) {\n        el.textContent = \"BokehJS \" + root.Bokeh.version + \" successfully loaded.\";\n      }\n    } else if (Date.now() < root._bokeh_timeout) {\n      setTimeout(display_loaded, 100)\n    }\n  }\n\n\n  function run_callbacks() {\n    try {\n      root._bokeh_onload_callbacks.forEach(function(callback) { callback() });\n    }\n    finally {\n      delete root._bokeh_onload_callbacks\n    }\n    console.info(\"Bokeh: all callbacks have finished\");\n  }\n\n  function load_libs(js_urls, callback) {\n    root._bokeh_onload_callbacks.push(callback);\n    if (root._bokeh_is_loading > 0) {\n      console.log(\"Bokeh: BokehJS is being loaded, scheduling callback at\", now());\n      return null;\n    }\n    if (js_urls == null || js_urls.length === 0) {\n      run_callbacks();\n      return null;\n    }\n    console.log(\"Bokeh: BokehJS not loaded, scheduling load and callback at\", now());\n    root._bokeh_is_loading = js_urls.length;\n    for (var i = 0; i < js_urls.length; i++) {\n      var url = js_urls[i];\n      var s = document.createElement('script');\n      s.src = url;\n      s.async = false;\n      s.onreadystatechange = s.onload = function() {\n        root._bokeh_is_loading--;\n        if (root._bokeh_is_loading === 0) {\n          console.log(\"Bokeh: all BokehJS libraries loaded\");\n          run_callbacks()\n        }\n      };\n      s.onerror = function() {\n        console.warn(\"failed to load library \" + url);\n      };\n      console.log(\"Bokeh: injecting script tag for BokehJS library: \", url);\n      document.getElementsByTagName(\"head\")[0].appendChild(s);\n    }\n  };var element = document.getElementById(\"1112\");\n  if (element == null) {\n    console.log(\"Bokeh: ERROR: autoload.js configured with elementid '1112' but no matching script tag was found. \")\n    return false;\n  }\n\n  var js_urls = [\"https://cdn.pydata.org/bokeh/release/bokeh-1.0.4.min.js\", \"https://cdn.pydata.org/bokeh/release/bokeh-widgets-1.0.4.min.js\", \"https://cdn.pydata.org/bokeh/release/bokeh-tables-1.0.4.min.js\", \"https://cdn.pydata.org/bokeh/release/bokeh-gl-1.0.4.min.js\"];\n\n  var inline_js = [\n    function(Bokeh) {\n      Bokeh.set_log_level(\"info\");\n    },\n    \n    function(Bokeh) {\n      \n    },\n    function(Bokeh) {\n      console.log(\"Bokeh: injecting CSS: https://cdn.pydata.org/bokeh/release/bokeh-1.0.4.min.css\");\n      Bokeh.embed.inject_css(\"https://cdn.pydata.org/bokeh/release/bokeh-1.0.4.min.css\");\n      console.log(\"Bokeh: injecting CSS: https://cdn.pydata.org/bokeh/release/bokeh-widgets-1.0.4.min.css\");\n      Bokeh.embed.inject_css(\"https://cdn.pydata.org/bokeh/release/bokeh-widgets-1.0.4.min.css\");\n      console.log(\"Bokeh: injecting CSS: https://cdn.pydata.org/bokeh/release/bokeh-tables-1.0.4.min.css\");\n      Bokeh.embed.inject_css(\"https://cdn.pydata.org/bokeh/release/bokeh-tables-1.0.4.min.css\");\n    }\n  ];\n\n  function run_inline_js() {\n    \n    if ((root.Bokeh !== undefined) || (force === true)) {\n      for (var i = 0; i < inline_js.length; i++) {\n        inline_js[i].call(root, root.Bokeh);\n      }if (force === true) {\n        display_loaded();\n      }} else if (Date.now() < root._bokeh_timeout) {\n      setTimeout(run_inline_js, 100);\n    } else if (!root._bokeh_failed_load) {\n      console.log(\"Bokeh: BokehJS failed to load within specified timeout.\");\n      root._bokeh_failed_load = true;\n    } else if (force !== true) {\n      var cell = $(document.getElementById(\"1112\")).parents('.cell').data().cell;\n      cell.output_area.append_execute_result(NB_LOAD_WARNING)\n    }\n\n  }\n\n  if (root._bokeh_is_loading === 0) {\n    console.log(\"Bokeh: BokehJS loaded, going straight to plotting\");\n    run_inline_js();\n  } else {\n    load_libs(js_urls, function() {\n      console.log(\"Bokeh: BokehJS plotting callback run at\", now());\n      run_inline_js();\n    });\n  }\n}(window));"
     },
     "metadata": {},
     "output_type": "display_data"
    },
    {
     "data": {
      "text/html": [
       "\n",
       "\n",
       "\n",
       "\n",
       "\n",
       "\n",
       "  <div class=\"bk-root\" id=\"40b3be78-8bc1-4102-8ed1-dea580e3082b\" data-root-id=\"1114\"></div>\n"
      ]
     },
     "metadata": {},
     "output_type": "display_data"
    },
    {
     "data": {
      "application/javascript": [
       "(function(root) {\n",
       "  function embed_document(root) {\n",
       "    \n",
       "  var docs_json = {\"1f5b92ed-0ed4-4416-aefd-362fd9ec8d38\":{\"roots\":{\"references\":[{\"attributes\":{\"below\":[{\"id\":\"1123\",\"type\":\"LinearAxis\"}],\"left\":[{\"id\":\"1128\",\"type\":\"LinearAxis\"}],\"plot_height\":400,\"renderers\":[{\"id\":\"1123\",\"type\":\"LinearAxis\"},{\"id\":\"1127\",\"type\":\"Grid\"},{\"id\":\"1128\",\"type\":\"LinearAxis\"},{\"id\":\"1132\",\"type\":\"Grid\"},{\"id\":\"1141\",\"type\":\"BoxAnnotation\"},{\"id\":\"1151\",\"type\":\"GlyphRenderer\"}],\"title\":{\"id\":\"1165\",\"type\":\"Title\"},\"toolbar\":{\"id\":\"1139\",\"type\":\"Toolbar\"},\"x_range\":{\"id\":\"1115\",\"type\":\"DataRange1d\"},\"x_scale\":{\"id\":\"1119\",\"type\":\"LinearScale\"},\"y_range\":{\"id\":\"1117\",\"type\":\"DataRange1d\"},\"y_scale\":{\"id\":\"1121\",\"type\":\"LinearScale\"}},\"id\":\"1114\",\"subtype\":\"Figure\",\"type\":\"Plot\"},{\"attributes\":{\"callback\":null},\"id\":\"1115\",\"type\":\"DataRange1d\"},{\"attributes\":{\"fill_alpha\":{\"value\":0.25},\"fill_color\":{\"field\":\"color\"},\"line_alpha\":{\"value\":0.25},\"line_color\":{\"field\":\"color\"},\"size\":{\"units\":\"screen\",\"value\":10},\"x\":{\"field\":\"x\"},\"y\":{\"field\":\"y\"}},\"id\":\"1149\",\"type\":\"Scatter\"},{\"attributes\":{\"overlay\":{\"id\":\"1141\",\"type\":\"BoxAnnotation\"}},\"id\":\"1135\",\"type\":\"BoxZoomTool\"},{\"attributes\":{},\"id\":\"1136\",\"type\":\"SaveTool\"},{\"attributes\":{\"formatter\":{\"id\":\"1168\",\"type\":\"BasicTickFormatter\"},\"plot\":{\"id\":\"1114\",\"subtype\":\"Figure\",\"type\":\"Plot\"},\"ticker\":{\"id\":\"1129\",\"type\":\"BasicTicker\"}},\"id\":\"1128\",\"type\":\"LinearAxis\"},{\"attributes\":{\"fill_alpha\":{\"value\":0.1},\"fill_color\":{\"value\":\"#1f77b4\"},\"line_alpha\":{\"value\":0.1},\"line_color\":{\"value\":\"#1f77b4\"},\"size\":{\"units\":\"screen\",\"value\":10},\"x\":{\"field\":\"x\"},\"y\":{\"field\":\"y\"}},\"id\":\"1150\",\"type\":\"Scatter\"},{\"attributes\":{},\"id\":\"1137\",\"type\":\"ResetTool\"},{\"attributes\":{},\"id\":\"1138\",\"type\":\"HelpTool\"},{\"attributes\":{\"callback\":null,\"data\":{\"color\":[\"blue\",\"blue\",\"blue\",\"blue\",\"blue\",\"blue\",\"blue\",\"blue\",\"blue\",\"blue\",\"blue\",\"blue\",\"blue\",\"blue\",\"blue\",\"blue\",\"blue\",\"blue\",\"blue\",\"blue\",\"blue\",\"blue\",\"blue\",\"blue\",\"blue\",\"blue\",\"blue\",\"blue\",\"blue\",\"blue\",\"blue\",\"blue\",\"blue\",\"blue\",\"blue\",\"blue\",\"blue\",\"blue\",\"blue\",\"blue\",\"blue\",\"blue\",\"blue\",\"blue\",\"blue\",\"blue\",\"blue\",\"blue\",\"blue\",\"blue\",\"blue\",\"blue\",\"blue\",\"blue\",\"blue\",\"blue\",\"blue\",\"blue\",\"blue\",\"blue\",\"blue\",\"blue\",\"blue\",\"blue\",\"blue\",\"blue\",\"blue\",\"blue\",\"blue\",\"blue\",\"blue\",\"blue\",\"blue\",\"blue\",\"blue\",\"blue\",\"blue\",\"blue\",\"blue\",\"blue\",\"blue\",\"blue\",\"blue\",\"blue\",\"blue\",\"blue\",\"blue\",\"blue\",\"blue\",\"blue\",\"blue\",\"blue\",\"blue\",\"blue\",\"blue\",\"blue\",\"blue\",\"blue\",\"blue\",\"blue\",\"blue\",\"blue\",\"blue\",\"blue\",\"blue\",\"blue\",\"blue\",\"blue\",\"blue\",\"blue\",\"blue\",\"blue\",\"blue\",\"blue\",\"blue\",\"blue\",\"blue\",\"blue\",\"blue\",\"blue\",\"blue\",\"blue\",\"blue\",\"blue\",\"blue\",\"blue\",\"blue\",\"blue\",\"blue\",\"blue\",\"blue\",\"blue\",\"blue\",\"blue\",\"blue\",\"blue\",\"blue\",\"blue\",\"blue\",\"blue\",\"blue\",\"blue\",\"blue\",\"blue\",\"blue\",\"blue\",\"blue\",\"blue\",\"blue\",\"blue\",\"blue\",\"blue\",\"blue\",\"blue\",\"blue\",\"blue\",\"blue\",\"blue\",\"blue\",\"blue\",\"blue\",\"blue\",\"blue\",\"blue\",\"blue\",\"blue\",\"blue\",\"blue\",\"blue\",\"blue\",\"blue\",\"blue\",\"blue\",\"blue\",\"blue\",\"blue\",\"blue\",\"blue\",\"blue\",\"blue\",\"blue\",\"blue\",\"blue\",\"blue\",\"blue\",\"blue\",\"blue\",\"blue\",\"blue\",\"blue\",\"blue\",\"blue\",\"blue\",\"blue\",\"blue\",\"blue\",\"blue\",\"blue\",\"blue\",\"blue\",\"blue\",\"blue\",\"blue\",\"blue\",\"blue\",\"blue\",\"blue\",\"blue\",\"blue\",\"blue\",\"blue\",\"blue\",\"blue\",\"blue\",\"blue\",\"blue\",\"blue\",\"blue\",\"blue\",\"blue\",\"blue\",\"blue\",\"blue\",\"blue\",\"blue\",\"blue\",\"blue\",\"blue\",\"blue\",\"blue\",\"blue\",\"blue\",\"blue\",\"blue\",\"blue\",\"blue\",\"blue\",\"blue\",\"blue\",\"blue\",\"blue\",\"blue\",\"blue\",\"blue\",\"blue\",\"blue\",\"blue\",\"blue\",\"blue\",\"blue\",\"blue\",\"blue\",\"blue\",\"blue\",\"blue\",\"blue\",\"blue\",\"blue\",\"blue\",\"blue\",\"blue\",\"blue\",\"blue\",\"blue\",\"blue\",\"blue\",\"blue\",\"blue\",\"blue\",\"blue\",\"blue\",\"blue\",\"blue\",\"blue\",\"blue\",\"blue\",\"blue\",\"blue\",\"blue\",\"blue\",\"blue\",\"blue\",\"blue\",\"blue\",\"blue\",\"blue\",\"blue\",\"blue\",\"blue\",\"blue\",\"blue\",\"blue\",\"blue\",\"blue\",\"blue\",\"blue\",\"blue\",\"blue\",\"blue\",\"blue\",\"blue\",\"blue\",\"blue\",\"blue\",\"blue\",\"blue\",\"blue\",\"blue\",\"blue\",\"blue\",\"blue\",\"blue\",\"blue\",\"blue\",\"blue\",\"blue\",\"blue\",\"blue\",\"blue\",\"blue\",\"blue\",\"blue\",\"blue\",\"blue\",\"blue\",\"blue\",\"blue\",\"blue\",\"blue\",\"blue\",\"blue\",\"blue\",\"blue\",\"blue\",\"blue\",\"blue\",\"blue\",\"blue\",\"blue\",\"blue\",\"blue\",\"blue\",\"blue\",\"blue\",\"blue\",\"blue\",\"blue\",\"blue\",\"blue\",\"blue\",\"blue\",\"blue\",\"blue\",\"blue\",\"blue\",\"blue\",\"blue\",\"blue\",\"blue\",\"blue\",\"blue\",\"blue\",\"blue\",\"blue\",\"blue\",\"blue\",\"blue\",\"blue\",\"blue\",\"blue\",\"blue\",\"blue\",\"blue\",\"blue\",\"blue\",\"blue\",\"blue\",\"blue\",\"blue\",\"blue\",\"blue\",\"blue\",\"blue\",\"blue\",\"blue\",\"blue\",\"blue\",\"blue\",\"blue\",\"blue\",\"blue\",\"blue\",\"blue\",\"blue\",\"blue\",\"blue\",\"blue\",\"blue\",\"blue\",\"blue\",\"blue\",\"blue\",\"blue\",\"blue\",\"blue\",\"blue\",\"blue\",\"blue\",\"blue\",\"blue\",\"blue\",\"blue\",\"blue\",\"blue\",\"blue\",\"blue\",\"blue\",\"blue\",\"blue\",\"blue\",\"blue\",\"blue\",\"blue\",\"blue\",\"blue\",\"blue\",\"blue\",\"blue\",\"blue\",\"blue\",\"blue\",\"blue\",\"blue\",\"blue\",\"blue\",\"blue\",\"blue\",\"blue\",\"blue\",\"blue\",\"blue\",\"blue\",\"blue\",\"blue\",\"blue\",\"blue\",\"blue\",\"blue\",\"blue\",\"blue\",\"blue\",\"blue\",\"blue\",\"blue\",\"blue\",\"blue\",\"blue\",\"blue\",\"blue\",\"blue\",\"blue\",\"blue\",\"blue\",\"blue\",\"blue\",\"blue\",\"blue\",\"blue\",\"blue\",\"blue\",\"blue\",\"blue\",\"blue\",\"blue\",\"blue\",\"blue\",\"blue\",\"blue\",\"blue\",\"blue\",\"blue\",\"blue\",\"blue\",\"blue\",\"blue\",\"blue\",\"blue\",\"blue\",\"blue\",\"blue\",\"blue\",\"blue\",\"blue\",\"blue\",\"blue\",\"blue\",\"blue\",\"blue\",\"blue\",\"blue\"],\"token\":[\"Select multiple images from the Photo library in windows phone 8\",\"Java classpath is not there after restart machine\",\"MKMapView renderInContext - iPhone 4 (Retina) issue\",\"implement c function and parameter pointer struct to c#?\",\"Angular + Firebase + AngularFire Seed Directive ShowAdmin\",\"Inserting a character into the middle of a string\",\"VSTO: Cached exchange mode VS LastModificationTime\",\"Google map api - autocomplete (japanese)\",\"How to create a callback for Google+ interactive posts?\",\"Getting JDK related error with Titanium Studio on Ubuntu\",\"Is there a way to use a different image for each side of a CSS3 border-image?\",\"Collaborative Filtering: Non-Personalized item-to-item similarity\",\"Split a single screen into two parts + animation\",\"What is the best way to launch a web browser with a custom url from a C# application?\",\"In TensorFlow, how can I get nonzero values and their indices from a tensor with python?\",\"Is there a C equivalent to CUDA rounding mode compiler intrisics?\",\"Updating a matplotlib bar graph?\",\"AngularJS support multiple environments\",\"PostgreSQL window function: grouping by column without ordering (~ Python itertools.groupby)\",\"Webpack Error - Cannot Resolve File or Directory\",\"php class to inline css styles?\",\"aws-sdk node.js s3 putObject from request body\",\"How to use pathauto and transliteration modules together?\",\"How to authenticate users from database with an authentication provider?\",\"unrelated data showing in the result(And,OR condition)?\",\"can JavaDB use SQL statements?\",\"Syntax for creating struct map key in Go HTML template\",\"Are there any B-tree programs or sites that show visually how a B-tree works\",\"Does the choice of an activation function and initial weights have any bearing on whether a Neural Network gets stuck in a local minima?\",\"Libgdx reading json array values\",\"Reports using java collections\",\"Multiple OHLC datasets in one image\",\"How to use machine learning to calculate a graph of states from a sequence of data?\",\"Link between INotifyPropertyChanged and Databinding\",\"Facebook Unity API - post screenshot with link and description?\",\"IntentService not getting called sometimes\",\"describe vs context in rspec. Differences?\",\"Getting error on pubsub example using Atmosphere + Jersey\",\"Grab livestreaming URL from YouTube\",\"With clojure read/read-string function, how do i read in a .clj file to a list of objects\",\"Objective-C [[NSXMLDocument alloc] initWithContentsOfURL:url options:0 error:&error]; help\",\"how to change the value in the html tag using jquery\",\"Convert html code into plain text inside a div or textarea\",\"Jasper reports master report's style changed by subreport style\",\"Excel NamedRange.Find Method with Regex pattern match in C#\",\"Google spreadsheet - Error when Remove range protection\",\"Writing to files with MPI\",\"DNN portal alias with internal IP\",\"Running Portia (scrapy) on Windows\",\"Rich ACLs with Azure Storage - delegating to AD?\",\"Using fopen() to write file into subdirectory\",\"How to handle ((List<string>)Session.Add(\\\"\\\")\",\"Hover Indicate selection with Jquery hover event\",\"why this would result in long integer overflow\",\"How should records be formatted for AWS Kinesis Firehose to Redshift?\",\"Windsor Logging Facility vs LibLog or any other\",\"iOS sendMessage override not woking when app in background\",\"Android Swipe Fragment on click\",\"Background image resizing to fit\",\"Strange values when reading pixels from 24-bit bitmap\",\"Magmi authorization after install\",\"Number of threads with NSOperationQueueDefaultMaxConcurrentOperationCount\",\"Outputing index of negative numbers in a list (using structural recursion)\",\"How to generate a dynamic URL using <dsp:a> in Oracle Commerce(ATG)\",\"Load the store of one dropdown on change of value in another dropdown\",\"Variables to input in file name for Reporting Services subscriptions\",\"'StopRemoteProfiler'-error during deployment to Azure\",\"ActiveX freezes IE\",\"Basemap and Matplotlib - Improving Speed\",\"Accessing the [] operator from a pointer\",\"MVC Code first and Ninject caching with complex mappings\",\"carouFredSel Slider - prevent scroll to top on slides rolling\",\"Inserting hex value mysql\",\"InfluxDB data input file timestamp format\",\"Best way to support multi-login on AppEngine\",\"Why does assigning a value to $? crash Powershell?\",\"Vigenere cipher difficulties\",\"Compiling BerkeleyDB examples.\",\"Swiping a div with jQuery on iPhone\",\"using application service in another application\",\"White listing effectiveness against SQL Injection\",\"XML parser for 4.0.3 version is not displaying images which is working in 2.1\",\"ContentDialog disappears when showing StatusBar\",\"System.Data.SQLite \\\"No such Table\\\" error occures when executing Query\",\"ASP.NET website issues with Windows 8.1/IE 11 browser\",\"How to hide and show content based on drop down selection\",\"retrieving controls from database\",\"trigger Event from iframe\",\"How can i define a rule in web config for the url extenxion\",\"Sending Netlink Taskstats message using libnl-3\",\"How do I optimize this Piece of code in C\",\"When is CollectionViewSource Source property set if viewSource is a static resource\",\"How to create an excel chart using py-appscript?\",\"Connecting client to server with BufferedReader and DataOutputStream using java not working, no error being displayed either\",\"Need to add second line and third delimiter on php explode\",\"Adding a Listener to a Google Map\",\"Tab Bar Controller is not in all UIViewControllers\",\"Property initialization does not call set for List<T>\",\"Any way to check-in into TFS from FAKE build target?\",\"Difference between response.setHeader and response.writeHead?\",\"Eclipse, where to change the current debug line background?\",\"d3js force layout with hide/unhide on node click misplaces nodes after expanding\",\"How to get the name of the shell running using a script?\",\"Don't know why the if condition is not detecting if the operand is an object or not\",\"iOS equivalent to a stylesheet?\",\"How can I reference other Excel workbooks dynamically via URL?\",\"Trying to debug VBA that calls a C++ DLL, \\\"wntdll.pdb not loaded\\\"\",\"Which documentation should I use to develop & test makefile based applications with Yocto?\",\"How to integrate python library in c# project\",\"For-loop variable scope confusion\",\"Eclipse Kepler Open Call Hierarchy Doesn't Searches in Application Libraries\",\"ncurses support for italics?\",\"css: gallery view without <table>\",\"Creating OdbcConnection to relativity client\",\"Send Message to all clients via SimpMessagingTemplate in ServletContextListener\",\"How to use Star rating of Font-awesome with Django?\",\"Repeatable process where image can be added when a button is click\",\"Python code PiGlow on Raspberry Pi\",\"Control the output of a make command\",\"How to get YEAR from a DATETIME using DATEPART in HQL\",\"Adding a global setting (feature toggle) to Wordpress\",\"dependencies with generic static methods\",\"subscript out of range mistake\",\"Putty Google Cloud compute\",\"React events not firing\",\"ASP.NET 5: docker build with multi-projects solution\",\"iOS 7 static table view selection style bug\",\"Python email checker script shows only unread messages, but not ones received since the program was opened\",\"Create comma separated list from array in laravel/blade?\",\"Modifying the legend colour and text in ggplot - R\",\"Python and Regular Expression Substring\",\"Color in storyboard not matching UIColor\",\"Copying a Magento site\",\"Infinite scrolling doesn't work offline\",\"Do these DLLs exist in default Windows systems?\",\"How to implement builder pattern with fluent-interface with immutable results and extended interfaces?\",\"Twisted throws \\\"Can only pass-through bytes on Python 2\\\" for no reason\",\"CakePHP Model Name Uses PHP Reserved Word\",\"getting java.net.SocketException: Invalid argument:inside docker container\",\"Jackson with JAXB - abstract types instantiation\",\"Google Sign in Error -Firebase android codelab\",\"inconsistent results when finding Factorial Trailing Zero\",\"How to use IPv6 protocol in Delphi program for iOS\",\"Average a CSV Column\",\"Disable IE pop up blocker through Options class or DesiredCapabilities\",\"How can I force maven to leave the version number out of dependency file names?\",\"Extjs 4.1.1: Grid to Tree drag drop not working\",\"XCode 7 UI Testing: Dismissal of system-generated UIAlertController does not work\",\"Inconsistent behavior of Time.now in Ruby/Rails app\",\"Office 365 Rest api auth\",\"A lot of threads in java process\",\"bootstrap year picker doesn't pick year only\",\"Reading data via OData: how to specify the authentication scheme via curl/RCurl?\",\"Python-Pygame Level Select Pages\",\"R: Painfully slow read performance using RODBC & SQL Server\",\"PHP session_name not working\",\"Java and Windows - error: illegal escape character\",\"How to use shell32.dll from C++ console application\",\"How (if at all) does a predictable random number generator get more secure after SHA-1ing its output?\",\"RabbitMQ Obj-C client connection status check\",\"Decrypting CryptoStream into MemoryStream\",\"What is your favorite/recommended project structure and file structure for Unit Testing using Boost?\",\"Listen keyboard shortcuts (c#)\",\"Bad performance (stuttering) with Windows Phone 7 Page Transitions\",\"Calculate tan having sin/cos LUT\",\"How to apply role-based security on struts2\",\"C++ convert UnicodeString into String\",\"Excel VB to QTP 11 script convertion issue\",\"Can`t select new version of app for TestFlight testing in iTunesConnect: operation_failed, version: undefined\",\"How can we retain a simple State Array across Configuration changes using Headless Fragments?\",\"Twitter Bootstrap Carousel buttons not working\",\"ipad orientation\",\"Get the value of a custom field of a WordPress post\",\"How to define a variable in a Dockerfile?\",\"Loop through recordset data 10 records at a time and add to array\",\"read xml from jsp\",\"C# 2010 Express - Missing Pointer\",\"J Oliver EventStore, a few questions\",\"Android uploading pictures to server in most efficient way\",\"Create SharePoint 2010 ribbon button programmatically w/o feature XML\",\"Problems with R drawable\",\"image shake on mouse over\",\"DustJS Nested Sections?\",\"VBA Dictionary with Dynamic Arrays\",\"Object Teletransport\",\"Create an array of a range of letters starting after A and finishing after Z ie (B to AC)\",\"Writing code for optimizing JIT compiler\",\"i am not able to get the images read in java for exporting it as JAR\",\"backbone.js save with coffeescript\",\"is there a way to manually install laravelcollective? laravel 5.4\",\"Using different page layout for login page\",\"Symfony3: Service not able to get arguments\",\"Access Google Calendar API using Service Account Authentication\",\"Search text from cell template not working in ui-grid\",\"RQuantLib fails to load\",\"How to have a generic.xaml for Silverlight 3 and Silverlight 4?\",\"how to remove underline from link label in compact framework (windows ce)\",\"Array subscripts in VBA- Can anyone explain this?\",\"Sort Ruby Hash by order in array of keys\",\"I get HTTP 500 error when use python urllib2.open\",\"Adding custom animation to popToRootViewController\",\"SCons long command line TEMPFILE with MinGW\",\"A new entity was found through the relationship *** that was not configured to cascade persist operations for entity\",\"Attempting to convert a 2 dimensional array to single dimension in embedded C\",\"Allowing user to select a UIPickerView row by tapping and hide the picker\",\"remove duplicate column values in sql\",\"Java Reflection: Creating class instance dynamically and assigning it to Parent object\",\"PL/Python & postgreSQL: What is the best way to return a table of many columns?\",\"How to enter an input,read an output and then enter output based on the received output to an exe file in python?\",\"Authenticate an EWS application by using OAuth\",\"SSAS Visual Totals not work in Excel\",\"Class Library shared between an UWP app and a Bot Framework chatbot\",\"c# System.InvalidOperationException: The type foo was not expected\",\"What does .:format mean in rake routes\",\"Why is the keyup handler being invoked here, and can I prevent it?\",\"Separate file name from its path\",\"How to call DocuSign Signer Information screen?\",\"Problems with using code program\",\"Keep getting error: \\\"Failed with: Uncaught SyntaxError: Unexpected token T in <unknown file>:1\\\" (PARSE CLOUD CODE)\",\"showing DIV on Hover - overflow auto\",\"Why does Visual Basic allow Strings to be added to Integers in arithmetic statements?\",\"Finding an element on a combobox which has too many data on JavaFx\",\"Is there any way to run \\\"dir\\\" directly?\",\"2d array, pushing to one array shows up in all arrays?\",\"Type casting values during an attr_accessor\",\"SQL Server columnstore index update/insert in stored procedure\",\"Why do reads in google app engine datastore transactions not see previous writes or deletes?\",\"Guard-RSpec and Spring: command `cmd: spring rspec` doesn't run the specs within Guard\",\"NTFS permission with modify date\",\"message-driven-channel-adapter and multi threading\",\"How to map the Mixins for the nested JSON response\",\"TFS 2013 build agents sharing common build folder\",\"Apache Axis: no containing element\",\"Giving app uri and web url in App indexing\",\"Python Input loop depending on number entered\",\"Select child nodes based on their contents\",\"Windows Mobile C++ Tray Icon\",\"Java 7 to 8: Expecting a stackmap frame at branch target\",\"resample audio buffer from 44100 to 16000\",\"Translator service in sequoyah plugin of Eclipse\",\"How can I make a request with both GET and POST parameters in PHP with cURL?\",\"Issue with writing values to properties file in java\",\"Infinite/Circular UI Scrollview Syncing Issues\",\"How to create appium TestSuite in Android Studio\",\"auto reference in c++11\",\"jQuery attr() fails to set attribute\",\"How to get the time elapsed from a json date?\",\"Laravel list issue\",\"Editing an object in entity framework and saving it to the database in ASP.NET MVC 2.0\",\"PHP fread() Function Returning Extra Characters at the Front on UTF-8 Text Files\",\"JPA eclipselink Inheritance between entities : oracle database\",\"What is the best way to get contents from a div?\",\"create image dynamically - PHP GD\",\"How to hide specific files extensions (html & php) in URL?\",\"Difference between body.style.backgroundColor and window.getComputedStyle(body).getPropertyValue('background-color')\",\"XPATH method for retuning multiple dynamic results from a XML file using PHP\",\"How to add Individual Cell Validation in Ui-Grid Angularjs\",\"Increase number of partitions in a Kafka topic from a Kafka client\",\"How do i dump .schema of SQLite table?\",\"How to remove summary class In yii2?\",\"Graph C implementation - Depth first search\",\"How to wait and get text from another form in multiple backgroundworker\",\"OpenCV detect face landmarks (ear-chin-ear line)\",\"Regression with Lasso, all coeffs are 0\",\"How to Import existing Grails app into Intellij\",\"How to call a method after WCF Service class is constructed?\",\"Cache queries with filter\",\"Varying amount of dictionaries in a DataTable\",\"Click event on raphael pie chart\",\"How to implement MVVM with NavigationService in Silverlight 4?\",\"Refresh overlay object in Map Activity on Android\",\"Inner Join 3 tables\",\"How to display view without template?\",\"Custom Menu visible to one document in Excel\",\"Verilog 4-bit up-down counter designed using negative edge triggered T flip flops\",\"Programmatically uninstall an applicaton - even if custom uninstaller fails\",\"Postgresql (Rails 3) merge rows on column (same table)\",\"What scenarios constitute a Non-Default Execution Context in .Net?\",\"sbt stage : not a valid command\",\"Can I add a custom header to exported Excel file?\",\"Updating Entity Framework EDMX Models After Database Migration\",\"Running AppleScripts through the ScriptMonitor.app Utility\",\"How do I pass variables between methods in java?\",\"Is it wise to use fractional / decimal pixels for borders in css?\",\"How can I use iOS6 fonts in iOS5\",\"How to make ChildWindow blocking\",\"Why do we use radians in programming?\",\"Qt Linguist: Only .ui-based widgets are translated, other contexts/widgets not\",\"Switching Activity to firebase- app shuts down\",\"Panel is Invisible but children are databinding\",\"What does overrideredirect do?\",\"The type 'Company.Model.User' and the type 'Company.Core.Model.User' both have the same simple name of 'User' and so cannot be used in the same model\",\"Unable to get intent filters from a package\",\"check whether a table has header or not in R\",\"Hybrid application - open image with zooming controls\",\"Parsing rfc3339 dates with NSDateFormatter in iOS 4.x and MacOS X 10.6: impossible?\",\"Statsmodels Poisson glm different than R\",\"Check if a variable is SRE_Match\",\"Getting user's location Android\",\"Matching function of a regular expression in excel?\",\"ErrorMissingEmailAddress error in Outlook REST API\",\"autosaving form data with jquery and php\",\"OSGI with Hibernate: \\\"No suitable driver found\\\"\",\"Growing memory usage in MATLAB\",\"Amazon APi gateway fails to generate transformed request\",\"What is the best way to structure a multi-page form to create and edit models in a database?\",\"what if when two UITableView in one ViewController and one with custom cell refrence and another is a simple\",\"Android AudioRecord Headphones with MIC\",\"How to display a particular NSXmlparser response data to webview\",\"ASP.NET MVC 3 : How to turn determine Controller Action from Url\",\"PDO::FETCH_ASSOC Does not return the correct table columns\",\"Developing PHP-MySQL application on Azure\",\"Send both 404 status and redirect to 404 component in react-router\",\"How do I add an extra service endpoint to an \\\"ASP.NET 5\\\" type service?\",\"Text field not working on converting swf file to html5 using swiffy\",\"Travelport Galileo python SoapClient\",\"Use ClientBundle in a large Enterprise Application?\",\"wan to highlight particular positions( which ll have to be fetched from the database) in the list view\",\"How can I add data to a multivalued attribute in DynamoDB using boto?\",\"Can't get amazon cmd shell to work through boto\",\"How to create document preview with a list of images on it\",\"Troubles to detect if a CGPoint is inside a square (diamond-shape)\",\"Stored Procedure is returning a int value and not the columns\",\"Debug via going into preprocessing, compilation, assembly and linking\",\"Sorting 1 million 8-digit numbers in 1 MB of RAM\",\"What is the sense of Flex Modules\",\"dynamic update to data for dygraph in R shiny\",\"How to send Https Post request in java\",\"Mmh, who are you PRIu64?\",\"Spark application fails due to \\\"FileSystem closed\\\" exception\",\"Netbeans 8.2 build successful but no output\",\"Silverlight Column Series Chart Width Question\",\"JWT or OAuth or Both in LARAVEL WEB API\",\"Get attribute value from HTML element in WebBrowser\",\"SQL Server: Importing and archiving weekly data\",\"block this special characters using query `~ #$^+|\\\\ []{}<>\",\"Correct position of clauses in a multiple join\",\"how to get QR code type\",\"How to get current word at the Caret position from a String(TextBox) which is having SPACE and ENTER key?\",\"Use of undefined constant CURLOPT_IPRESOLVE - assumed 'CURLOPT_IPRESOLVE'\",\"Iterating through multidimensional array to output the contents in an inner array in PHP\",\"How to add an Outlook VSTO 2010 context menu within the message?\",\"DAO.Recordset performance\",\"Can I add a new item based on another database row in SQLAlchemy?\",\"SQL query to return results from one table based on data joined from two other tables?\",\"C++ factory for composition of template parameters\",\"C++ abstract methods\",\"Entity Framework 5 how to add FixupCollection to Dbcontext generator\",\"Is there anything that explains the Rails' API documentation?\",\"phpThumb - Invalid hash\",\"Android Webview Handling Orientation Not Working\",\"How to serialize the com or excel objects to binary format so that i can store it in memorystream in asp.net\",\"ClassNotFoundException when using ServiceLoader in Glassfish4 Java EE app\",\"Excel VBA - How to compare today's date in one column with a future date in a second column\",\"After a change to the default routing map my actionlinks stopped working\",\"Difference in performance of compiled accelerate code ran from ghci and shell\",\"Tomcat 7 Load Balancing\",\"Can I use stream operator with bind?\",\"Ninject GetBindings with Interface<T>\",\"Issue with will_paginate page links\",\"css sprite navigation\",\"Regex issue, restricting '*' character\",\"Why is input form appending \\\"?\\\" when enter key is pressed?\",\"How to not overwrite table cell text when adding a control\",\"What is the maximum number of threads a process can have in windows\",\"Is it possible to display a PDF in a Report Builder report?\",\"Time difference between local time and server time in c#\",\"\\\"Tab order\\\" in a rails app\",\"What is a changelist in IntelliJ IDEA?\",\"How to implement auto-increment id property of label in neo4jphp?\",\"How to get position:absolute child to overflow the parent dimensions when parent overflow is auto?\",\"Unable to build nunit with xamarin : error CS1525: Unexpected symbol `end-of-file'\",\"Add class to upper li when underlaying input is checked\",\"SQLAlchemy, one to one relationship on the same table\",\"jQuery submit(); not picking up value\",\"Share via FBSDKShareDialog ignores applink defined on target page\",\"Anaconda installation of Tensorflow fails with Debian 8 VirtualBox\",\"How can I access another View Controller's variables without creating a new instance of it?\",\"Sass::SyntaxError in Static_pages#home Hatrl's tuorial\",\"php mailer parse error\",\"How do I iterate over Django CHOICES in a template - without using a form or model instance\",\"Can you specify which cipher suite your java application/client should use?\",\"How to assign Store value to hidden field\",\"How can I delete partially duplicate lines with sed?\",\"Django Templates: Display a date only if it's in the future\",\"Ignoring calculated values when reading in Excel file with PHPExcel\",\"MS Access Properties\",\"Invalid Credentials (missing or invlaid oAuth token) Google Plus Share Button\",\"how to get screenshot of a web page\",\"Execution of \\\"required\\\" code in php\",\"Jasper reports font size issue exporting to pdf\",\"Call to AddAuthorization is ambiguous\",\"Generic casting in Typescript\",\"How do I implement client-side bandwidth throttling for FTP/HTTP?\",\"How to replace and append with Javascript\",\"Having trouble with methods for Vimeo's new API\",\"Cannot connect to host's db from guest\",\"Show ToolTip When Application is in Minimized State\",\"upload to mysql server not working\",\"can't get a delete command working\",\"While Do loop and variables in a bash script?\",\"Need primer for a Msbuild newbie\",\"ZF2 Get params in factory\",\"unexpected execution of Exceptions in python\",\"Add shadow (recessed text effect) to Cocoa label without degrading text rendering quality\",\"Uploading files to OneDrive. 401 error\",\"Meteor Storing and Retrieving Custom Objects in Session\",\"How to get Appstats data for a Cloud Endpoint method?\",\"preg_replace headings with strong\",\"Dynamic Topologies vs Fine-grained topologies in Apache Storm\",\"Why doesn't Visual Studio refresh the folders when I click the Solution Explorer refresh button?\",\"MongoDB to assist with recommendations\",\"Set two UISliders to never go below each other in swift\",\"Cookie will not set for keep me logged in. PHP\",\"Swing if else statement\",\"iOS - Change view when orientation changes\",\"angular link scope variable undefined into template\",\"Spring Boot: Send requests on another port to a custom Servlet\",\"LWJGL, Clojure, Single Thread for OpenGL Commands\",\"Exported object from blender doesnt work properly in ThreeJS\",\"Ninject.Web.PageBase still resulting in null reference to injected dependency\",\"View is rendered on Redirect::to but not displaying after POST and form validation\",\"Python Recv() stalling\",\"WCF Callbacks not working for multiple clients\",\"javascript restler how to block/wait on a request\",\"GWT need to know how to connect to.. or go from one page to another\",\"Javascript for loop to change the name of textareas in a function\",\"Simple ajax call not working with button click\",\"no route matches in rails\",\"PHP Content-Length header not working\",\"Issue loading 'dplyr' packages\",\"HighChart: How to get exact point / timestamp from plotBands click\",\"Remove \\\"sub\\\" host from URL with javascript // www.search.test.com - only want \\\"test.com\\\"\",\"Writing to the ObjectOutputStream and getting rubbish back\",\"Create a list with empty files and a list with not empty files\",\"Multiple active sessions with ASP Classic login\",\"Adding text to y-axis - MATLAB\",\"json+ld variable property values\",\"Mysterious Flickering Visual Artifact\",\"Using MongoDB as our master database, should I use a separate graph database to implement relationships between entities?\",\"How to cast object/structure into arraylist?\",\"How to know the which activity is ruuning in windows phone 7?\",\"Sencha local mysql server\",\"How to get the detected text from the UITextView?\",\"Script for logging in as user and executing another script\",\"convert rectangular image to square image using objective c\",\"String masking: Confoming text to a given mask\",\"Using ActionListener to update variables in other classes\",\"mIRC bot - copy/paste lines in 2 channels\",\"Can't simulate backspace button on some applications with event tap\",\"terminal command for running sublime text 3 from on ubuntu\",\"jQuery - replace image in div while preserving rel attribute\",\"Conversion of Flash Components and 9-Slice Scaling to HTML5 canvas\",\"Dynamic Topologies vs Fine-grained topologies in Apache Storm\",\"ANDROID : Getting images from drawable using filename from database\",\"CC -I vs -isystem command line argument differences and specific behavior\",\"salt-stack - show Started and Duration details in results\",\"random movieClips when timer is complete\",\"PHP files downloading\",\"C# Non-Windows Remote Desktop\",\"Remember menu state on reload\",\"Save Spark RDD to Hive Table\",\"Automatically set a property value for a new record in a Dynamic Data application\",\"Gmod Lua - Checking if flag exists in bitflag\",\"jQuery And Javascript Changing checkbox' checked attribute?\",\"How do we represent negative numbers in prolog\",\"navbar positioning bug in chrome\",\"How to emit light from plane in threejs?\",\"Field default value from query in MS Access\",\"How to detect loss of JMS Topic connection\",\"getContextPath using servlet\",\"Processing of Microphone Input\",\"Rails 3.1 - stack level too deep on db:seed\",\"Remove all whitespaces in a file- Linux\",\"Ajax JSON with byte array to webapi returning \\\"No Content-Type header\\\"\",\"AvalonDock with MVVM, document close doesn't remove i tem in the DocumentsSource\",\"Can I do math within a LESS css string interpolation?\",\"Can't edit SQLite database name\",\"Print substituted expression without numerical evaluation\",\"Validate password and confirm password Ng2\",\"Using Deferred with AJAX\",\"Webpack with small initial script and async loading of all other scripts\",\"PHP - Is it good practice to cache MYSQL queries in a txt file?\",\"Sqlite One to Many Relationship\",\"an error when choosing between two specific date in datagridview in VISUAL BASIC\",\"In NUnit how do I specify tolerance for struct's properties comparison?\",\"How can I access cookie from InternetExplorer.Application\",\"Ruby on Rails: apply drop shadow with Carrierwave\",\":REST spring security - Manually authenticating a new user and getting access token\",\"(Java) Check array for increasing elements\",\"Webkit to find elements with Swift\",\"how to read and write url content into a file using angular js\",\"Task Parallel Library - I don't understand what I'm doing wrong\",\"open a model window by jquery onchange of select option\",\"Authenticated user loggouts after server restart\",\"Pylons user authentication roll our own or openid or alternatives?\",\"Getting Unique System ID on Mac using C#(Mono)\",\"Create and send a bluetooth command frame in Cocoa\",\"JavaScript Prank / Joke\",\"SSL error with Python requests despite up-to-date dependencies\"],\"x\":{\"__ndarray__\":\"NNRyv4b1+z1YbNY/a63fviafvb9PpFS/fTuiv3Xywz+jpJI/7Dz9PZz/Hr8JSkY96eKBv+J3nj/r6PW/geKJvu2HJz9jGT8/fgnQvyfCxz3+BK8/DGG3PpM2DD/Z3Jg/fbxvPi1W8z8IoH0/ITMnv3vcn76h6oS/k1KEP5kmRT/31xw/dOeFPy5Fvj/kXg+/wA9zv5WCRb0yRrQ/sg6YPzb+dj4CElk/OyB7P1Z3UL/zihq/xCUaPiDeqT+koaM/BotePpgd2b0vHqc/kfs5P/HWr7/LTIS+p0d9PzCvo7+kx3c/930sP02cIL+0LlI/DL0RwM+QYr8EjADARXqbP37igj59H1g/f2CTPnV1Or8mrU+/BWX1vgFviT/cXmC/lEtTP6OQdT95esk/GkuGPqAYOb4CvwC/9rubv0FQTT8GJ/4/YLDWv/HVVL/P7H8+PVz5PM4x3rzxzxA/mkuVP8HqsD9pRA/A1oWtvvKGj79dgJS+xQQfPmgDYT5frXQ/zvK4vwLgAT5hvQ+/CErPPlMj6j0maDw+Rl8Vv6bRLz4RiNu/6WeZP3VHDT/TFzw/CdvXv/njcbxhojg9//84v/1zXr9VUWO/moQPwEBxe7/c79k+bDbsv4Nvo7+iCQ2/eYfIPtVnzj/QXxw+rBKQP6NPMr+lvH69ISppvxpdl75DzHy+kqPrPU7r4r/zbYe/XXkgPz2KWz+KHoE+GYXnPqsb6b87T8w/bJ0lvRU03b1meEA/4KUsv75wuz5hlpW/JKNjPwtsRL68BN2/JklvvmKyqb8ABfM/Aulhv9/AIb9z4Yc+tonWv08EhD8+CM0/gNJLPUMmCT976pG/9koHv0lH8z9kfUm+abXmPn9Zb78Tckm/r/phvgp59r5xKUm//KQKvkT5xL1c2ro+2BDRP7CEkz6nGgw8pMTpPkL3oj+A3+y+8oK3vgyLTD/d7YQ/Iok6Pq5oKr8m3jI/h+cWPif8w79QFJy+ec2IPwtNyr6Z5bC9EqLmvy1YyD9R+OS+UnKoP+xsND8rz36+b4nkv9+Isr5pTAa8YJHvvV3+1r8VL4S/tzmZv0c2Kr6eBdu+R030PfLYcD9L8pG9pIOQv5Revr9mvnA/Gfphv7C7Yj8jD4u+18invw5gVr6JGSy+Vickvzu3pD47bb69izOnvyr2Jj/KjeE+q+5Nv8/TRjx9dp2/AcnqP2Knez8mwpC/yq4RwKlOjT/DzC8/d/4Cve9jq76plKo/3aDKv3RBAj4xa5Y+IGfXv164mj/D/UE+FXecPv8Uhr8q6WI/NUsqP+oWDb/iIWK+P2o8v3FQSj/RDNG8NqjsPpqrMj8tnZ+/OLS3P+QIxT/CWqy/pleaP4fYMD/kqfA8WE6rPwqD0L4uadm+lEntvg+Kib8ZB8K/GnCBPy6Sdb7UBMk/4fsBvkBhpj5QU+2/FnMeP1wSpb/39Ay/fZalvqOOSL8FdpU/bf2av+S4DL5G/Zi/7bxEvro6Jj9A/YE/IysUP/ZITj/U4ZY/lJk5v8JQID8auo0/+4+DPw1H5r6caBW/7TCUPKzpwL7Lyzm+LPsRv7Py1r+ym4a+9qYwv3suQj/VUk6/ABH2PyN4yD+s6J6+jBGSvSrBqD8hgMO9i1mpvogWEz8Yk78+mXAWPIpckb+H5sI/Y/LYviKxu7zu7AY/zWTzv9GgSD+6YQG+Hf8GPwW6vj9Zhuk+qd6Lv7ysh78gkRU/iN/Xv/l57T69Q6s+XjsJQP5pFb9OchK+Gifiv/k0kr88xsw/H49XPzdn7z/GFYk+3lb4vphqlD4qiPm+Y6HWvZu51z09lCy/lOh+v8WQnjwev4O9Z+EFvzFJyb5JChy++hvkP75lc73EjW492maBPx4PjT8fWYK/tVMSO1N/Nb8FLdu/bHdmvjfB9j8NUYI/EECDP4Gqkz4AZ/G+sVElP27cYb/DP68+FWcnvzZBtb/AWLy+AlBQv/I+lb6y2Z+9hTSdvmfRtL/6drk+eQgQv+HF7L9B6he+OImhv/6v2D9Mv/e9ZltGP2yNgD6fGDo/R4YOv2F7g79yVxA/Q1DPPgE9wz/n6ss/thZKv8QY1r0WU+y/ZyTdP9A3FUDDYuA/4jkbvx8zqD/a+e8/cJb1Pl6pF79vd2C/BZAKv8zW3L96ouq+il+uP7S6gT3CVYY/grznPoeB6j8Xyvg+iMWxvo5IFL8Kg70+CG4dv98Ncb9a7jy7BAKFPiC5Jr9EqbS/XhDCvtB8AL91XO2/g+1KPhJdF0BB5ve+RwgXQEpb0j7xZ7C/6DYavaEXOL9LWLs+8qugPzL3Bb/4vwI/ldfJP3Svob5JKZG/YYcOPaz2Gj99I8K/nuVzvyAz8T8DcCc/X6H5v2mZEr+hZWe/YblLP8mfCz+jdZ4+rf6bPszIsz/Zvde+toDqPzajWD+Fhm2/ykEpvk+5lb96oNg/NN+VPvNKvr6Ggv++AIbcPf+HiL6cqhZAHj8BwDmweL/BxaO/gmcOPyA1Hj5u658/HlHDv7lfyr+TdrI/eZeKvQmu0L6oKDk/TNSRP6Sw1r7x96w/GVzuvr7H+L982sU/h/i0vyKOmL0puXu/1s1aPyBip78jyFI+YuIAP1ddG78CQZg/KimsvkaqW7/zxaI/MKGOP5w/YL6KpgO/V2caQHqb2L8=\",\"dtype\":\"float32\",\"shape\":[500]},\"y\":{\"__ndarray__\":\"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\",\"dtype\":\"float32\",\"shape\":[500]}},\"selected\":{\"id\":\"1170\",\"type\":\"Selection\"},\"selection_policy\":{\"id\":\"1171\",\"type\":\"UnionRenderers\"}},\"id\":\"1113\",\"type\":\"ColumnDataSource\"},{\"attributes\":{\"active_drag\":\"auto\",\"active_inspect\":\"auto\",\"active_multi\":null,\"active_scroll\":{\"id\":\"1134\",\"type\":\"WheelZoomTool\"},\"active_tap\":\"auto\",\"tools\":[{\"id\":\"1133\",\"type\":\"PanTool\"},{\"id\":\"1134\",\"type\":\"WheelZoomTool\"},{\"id\":\"1135\",\"type\":\"BoxZoomTool\"},{\"id\":\"1136\",\"type\":\"SaveTool\"},{\"id\":\"1137\",\"type\":\"ResetTool\"},{\"id\":\"1138\",\"type\":\"HelpTool\"},{\"id\":\"1153\",\"type\":\"HoverTool\"}]},\"id\":\"1139\",\"type\":\"Toolbar\"},{\"attributes\":{\"data_source\":{\"id\":\"1113\",\"type\":\"ColumnDataSource\"},\"glyph\":{\"id\":\"1149\",\"type\":\"Scatter\"},\"hover_glyph\":null,\"muted_glyph\":null,\"nonselection_glyph\":{\"id\":\"1150\",\"type\":\"Scatter\"},\"selection_glyph\":null,\"view\":{\"id\":\"1152\",\"type\":\"CDSView\"}},\"id\":\"1151\",\"type\":\"GlyphRenderer\"},{\"attributes\":{\"bottom_units\":\"screen\",\"fill_alpha\":{\"value\":0.5},\"fill_color\":{\"value\":\"lightgrey\"},\"left_units\":\"screen\",\"level\":\"overlay\",\"line_alpha\":{\"value\":1.0},\"line_color\":{\"value\":\"black\"},\"line_dash\":[4,4],\"line_width\":{\"value\":2},\"plot\":null,\"render_mode\":\"css\",\"right_units\":\"screen\",\"top_units\":\"screen\"},\"id\":\"1141\",\"type\":\"BoxAnnotation\"},{\"attributes\":{\"source\":{\"id\":\"1113\",\"type\":\"ColumnDataSource\"}},\"id\":\"1152\",\"type\":\"CDSView\"},{\"attributes\":{},\"id\":\"1133\",\"type\":\"PanTool\"},{\"attributes\":{\"callback\":null,\"tooltips\":[[\"token\",\"@token\"]]},\"id\":\"1153\",\"type\":\"HoverTool\"},{\"attributes\":{\"formatter\":{\"id\":\"1166\",\"type\":\"BasicTickFormatter\"},\"plot\":{\"id\":\"1114\",\"subtype\":\"Figure\",\"type\":\"Plot\"},\"ticker\":{\"id\":\"1124\",\"type\":\"BasicTicker\"}},\"id\":\"1123\",\"type\":\"LinearAxis\"},{\"attributes\":{},\"id\":\"1119\",\"type\":\"LinearScale\"},{\"attributes\":{\"plot\":null,\"text\":\"\"},\"id\":\"1165\",\"type\":\"Title\"},{\"attributes\":{},\"id\":\"1134\",\"type\":\"WheelZoomTool\"},{\"attributes\":{},\"id\":\"1166\",\"type\":\"BasicTickFormatter\"},{\"attributes\":{},\"id\":\"1168\",\"type\":\"BasicTickFormatter\"},{\"attributes\":{},\"id\":\"1129\",\"type\":\"BasicTicker\"},{\"attributes\":{},\"id\":\"1170\",\"type\":\"Selection\"},{\"attributes\":{\"callback\":null},\"id\":\"1117\",\"type\":\"DataRange1d\"},{\"attributes\":{},\"id\":\"1121\",\"type\":\"LinearScale\"},{\"attributes\":{},\"id\":\"1171\",\"type\":\"UnionRenderers\"},{\"attributes\":{},\"id\":\"1124\",\"type\":\"BasicTicker\"},{\"attributes\":{\"dimension\":1,\"plot\":{\"id\":\"1114\",\"subtype\":\"Figure\",\"type\":\"Plot\"},\"ticker\":{\"id\":\"1129\",\"type\":\"BasicTicker\"}},\"id\":\"1132\",\"type\":\"Grid\"},{\"attributes\":{\"plot\":{\"id\":\"1114\",\"subtype\":\"Figure\",\"type\":\"Plot\"},\"ticker\":{\"id\":\"1124\",\"type\":\"BasicTicker\"}},\"id\":\"1127\",\"type\":\"Grid\"}],\"root_ids\":[\"1114\"]},\"title\":\"Bokeh Application\",\"version\":\"1.0.4\"}};\n",
       "  var render_items = [{\"docid\":\"1f5b92ed-0ed4-4416-aefd-362fd9ec8d38\",\"roots\":{\"1114\":\"40b3be78-8bc1-4102-8ed1-dea580e3082b\"}}];\n",
       "  root.Bokeh.embed.embed_items_notebook(docs_json, render_items);\n",
       "\n",
       "  }\n",
       "  if (root.Bokeh !== undefined) {\n",
       "    embed_document(root);\n",
       "  } else {\n",
       "    var attempts = 0;\n",
       "    var timer = setInterval(function(root) {\n",
       "      if (root.Bokeh !== undefined) {\n",
       "        embed_document(root);\n",
       "        clearInterval(timer);\n",
       "      }\n",
       "      attempts++;\n",
       "      if (attempts > 100) {\n",
       "        console.log(\"Bokeh: ERROR: Unable to run BokehJS code because BokehJS library is missing\");\n",
       "        clearInterval(timer);\n",
       "      }\n",
       "    }, 10, root)\n",
       "  }\n",
       "})(window);"
      ],
      "application/vnd.bokehjs_exec.v0+json": ""
     },
     "metadata": {
      "application/vnd.bokehjs_exec.v0+json": {
       "id": "1114"
      }
     },
     "output_type": "display_data"
    },
    {
     "data": {
      "text/html": [
       "<div style=\"display: table;\"><div style=\"display: table-row;\"><div style=\"display: table-cell;\"><b title=\"bokeh.plotting.figure.Figure\">Figure</b>(</div><div style=\"display: table-cell;\">id&nbsp;=&nbsp;'1114', <span id=\"1228\" style=\"cursor: pointer;\">&hellip;)</span></div></div><div class=\"1227\" style=\"display: none;\"><div style=\"display: table-cell;\"></div><div style=\"display: table-cell;\">above&nbsp;=&nbsp;[],</div></div><div class=\"1227\" style=\"display: none;\"><div style=\"display: table-cell;\"></div><div style=\"display: table-cell;\">aspect_scale&nbsp;=&nbsp;1,</div></div><div class=\"1227\" style=\"display: none;\"><div style=\"display: table-cell;\"></div><div style=\"display: table-cell;\">background_fill_alpha&nbsp;=&nbsp;{'value': 1.0},</div></div><div class=\"1227\" style=\"display: none;\"><div style=\"display: table-cell;\"></div><div style=\"display: table-cell;\">background_fill_color&nbsp;=&nbsp;{'value': '#ffffff'},</div></div><div class=\"1227\" style=\"display: none;\"><div style=\"display: table-cell;\"></div><div style=\"display: table-cell;\">below&nbsp;=&nbsp;[LinearAxis(id='1123', ...)],</div></div><div class=\"1227\" style=\"display: none;\"><div style=\"display: table-cell;\"></div><div style=\"display: table-cell;\">border_fill_alpha&nbsp;=&nbsp;{'value': 1.0},</div></div><div class=\"1227\" style=\"display: none;\"><div style=\"display: table-cell;\"></div><div style=\"display: table-cell;\">border_fill_color&nbsp;=&nbsp;{'value': '#ffffff'},</div></div><div class=\"1227\" style=\"display: none;\"><div style=\"display: table-cell;\"></div><div style=\"display: table-cell;\">css_classes&nbsp;=&nbsp;[],</div></div><div class=\"1227\" style=\"display: none;\"><div style=\"display: table-cell;\"></div><div style=\"display: table-cell;\">disabled&nbsp;=&nbsp;False,</div></div><div class=\"1227\" style=\"display: none;\"><div style=\"display: table-cell;\"></div><div style=\"display: table-cell;\">extra_x_ranges&nbsp;=&nbsp;{},</div></div><div class=\"1227\" style=\"display: none;\"><div style=\"display: table-cell;\"></div><div style=\"display: table-cell;\">extra_y_ranges&nbsp;=&nbsp;{},</div></div><div class=\"1227\" style=\"display: none;\"><div style=\"display: table-cell;\"></div><div style=\"display: table-cell;\">h_symmetry&nbsp;=&nbsp;True,</div></div><div class=\"1227\" style=\"display: none;\"><div style=\"display: table-cell;\"></div><div style=\"display: table-cell;\">height&nbsp;=&nbsp;None,</div></div><div class=\"1227\" style=\"display: none;\"><div style=\"display: table-cell;\"></div><div style=\"display: table-cell;\">hidpi&nbsp;=&nbsp;True,</div></div><div class=\"1227\" style=\"display: none;\"><div style=\"display: table-cell;\"></div><div style=\"display: table-cell;\">js_event_callbacks&nbsp;=&nbsp;{},</div></div><div class=\"1227\" style=\"display: none;\"><div style=\"display: table-cell;\"></div><div style=\"display: table-cell;\">js_property_callbacks&nbsp;=&nbsp;{},</div></div><div class=\"1227\" style=\"display: none;\"><div style=\"display: table-cell;\"></div><div style=\"display: table-cell;\">left&nbsp;=&nbsp;[LinearAxis(id='1128', ...)],</div></div><div class=\"1227\" style=\"display: none;\"><div style=\"display: table-cell;\"></div><div style=\"display: table-cell;\">lod_factor&nbsp;=&nbsp;10,</div></div><div class=\"1227\" style=\"display: none;\"><div style=\"display: table-cell;\"></div><div style=\"display: table-cell;\">lod_interval&nbsp;=&nbsp;300,</div></div><div class=\"1227\" style=\"display: none;\"><div style=\"display: table-cell;\"></div><div style=\"display: table-cell;\">lod_threshold&nbsp;=&nbsp;2000,</div></div><div class=\"1227\" style=\"display: none;\"><div style=\"display: table-cell;\"></div><div style=\"display: table-cell;\">lod_timeout&nbsp;=&nbsp;500,</div></div><div class=\"1227\" style=\"display: none;\"><div style=\"display: table-cell;\"></div><div style=\"display: table-cell;\">match_aspect&nbsp;=&nbsp;False,</div></div><div class=\"1227\" style=\"display: none;\"><div style=\"display: table-cell;\"></div><div style=\"display: table-cell;\">min_border&nbsp;=&nbsp;5,</div></div><div class=\"1227\" style=\"display: none;\"><div style=\"display: table-cell;\"></div><div style=\"display: table-cell;\">min_border_bottom&nbsp;=&nbsp;None,</div></div><div class=\"1227\" style=\"display: none;\"><div style=\"display: table-cell;\"></div><div style=\"display: table-cell;\">min_border_left&nbsp;=&nbsp;None,</div></div><div class=\"1227\" style=\"display: none;\"><div style=\"display: table-cell;\"></div><div style=\"display: table-cell;\">min_border_right&nbsp;=&nbsp;None,</div></div><div class=\"1227\" style=\"display: none;\"><div style=\"display: table-cell;\"></div><div style=\"display: table-cell;\">min_border_top&nbsp;=&nbsp;None,</div></div><div class=\"1227\" style=\"display: none;\"><div style=\"display: table-cell;\"></div><div style=\"display: table-cell;\">name&nbsp;=&nbsp;None,</div></div><div class=\"1227\" style=\"display: none;\"><div style=\"display: table-cell;\"></div><div style=\"display: table-cell;\">outline_line_alpha&nbsp;=&nbsp;{'value': 1.0},</div></div><div class=\"1227\" style=\"display: none;\"><div style=\"display: table-cell;\"></div><div style=\"display: table-cell;\">outline_line_cap&nbsp;=&nbsp;'butt',</div></div><div class=\"1227\" style=\"display: none;\"><div style=\"display: table-cell;\"></div><div style=\"display: table-cell;\">outline_line_color&nbsp;=&nbsp;{'value': '#e5e5e5'},</div></div><div class=\"1227\" style=\"display: none;\"><div style=\"display: table-cell;\"></div><div style=\"display: table-cell;\">outline_line_dash&nbsp;=&nbsp;[],</div></div><div class=\"1227\" style=\"display: none;\"><div style=\"display: table-cell;\"></div><div style=\"display: table-cell;\">outline_line_dash_offset&nbsp;=&nbsp;0,</div></div><div class=\"1227\" style=\"display: none;\"><div style=\"display: table-cell;\"></div><div style=\"display: table-cell;\">outline_line_join&nbsp;=&nbsp;'bevel',</div></div><div class=\"1227\" style=\"display: none;\"><div style=\"display: table-cell;\"></div><div style=\"display: table-cell;\">outline_line_width&nbsp;=&nbsp;{'value': 1},</div></div><div class=\"1227\" style=\"display: none;\"><div style=\"display: table-cell;\"></div><div style=\"display: table-cell;\">output_backend&nbsp;=&nbsp;'canvas',</div></div><div class=\"1227\" style=\"display: none;\"><div style=\"display: table-cell;\"></div><div style=\"display: table-cell;\">plot_height&nbsp;=&nbsp;400,</div></div><div class=\"1227\" style=\"display: none;\"><div style=\"display: table-cell;\"></div><div style=\"display: table-cell;\">plot_width&nbsp;=&nbsp;600,</div></div><div class=\"1227\" style=\"display: none;\"><div style=\"display: table-cell;\"></div><div style=\"display: table-cell;\">renderers&nbsp;=&nbsp;[LinearAxis(id='1123', ...), Grid(id='1127', ...), LinearAxis(id='1128', ...), Grid(id='1132', ...), BoxAnnotation(id='1141', ...), GlyphRenderer(id='1151', ...)],</div></div><div class=\"1227\" style=\"display: none;\"><div style=\"display: table-cell;\"></div><div style=\"display: table-cell;\">right&nbsp;=&nbsp;[],</div></div><div class=\"1227\" style=\"display: none;\"><div style=\"display: table-cell;\"></div><div style=\"display: table-cell;\">sizing_mode&nbsp;=&nbsp;'fixed',</div></div><div class=\"1227\" style=\"display: none;\"><div style=\"display: table-cell;\"></div><div style=\"display: table-cell;\">subscribed_events&nbsp;=&nbsp;[],</div></div><div class=\"1227\" style=\"display: none;\"><div style=\"display: table-cell;\"></div><div style=\"display: table-cell;\">tags&nbsp;=&nbsp;[],</div></div><div class=\"1227\" style=\"display: none;\"><div style=\"display: table-cell;\"></div><div style=\"display: table-cell;\">title&nbsp;=&nbsp;Title(id='1165', ...),</div></div><div class=\"1227\" style=\"display: none;\"><div style=\"display: table-cell;\"></div><div style=\"display: table-cell;\">title_location&nbsp;=&nbsp;'above',</div></div><div class=\"1227\" style=\"display: none;\"><div style=\"display: table-cell;\"></div><div style=\"display: table-cell;\">toolbar&nbsp;=&nbsp;Toolbar(id='1139', ...),</div></div><div class=\"1227\" style=\"display: none;\"><div style=\"display: table-cell;\"></div><div style=\"display: table-cell;\">toolbar_location&nbsp;=&nbsp;'right',</div></div><div class=\"1227\" style=\"display: none;\"><div style=\"display: table-cell;\"></div><div style=\"display: table-cell;\">toolbar_sticky&nbsp;=&nbsp;True,</div></div><div class=\"1227\" style=\"display: none;\"><div style=\"display: table-cell;\"></div><div style=\"display: table-cell;\">v_symmetry&nbsp;=&nbsp;False,</div></div><div class=\"1227\" style=\"display: none;\"><div style=\"display: table-cell;\"></div><div style=\"display: table-cell;\">width&nbsp;=&nbsp;None,</div></div><div class=\"1227\" style=\"display: none;\"><div style=\"display: table-cell;\"></div><div style=\"display: table-cell;\">x_range&nbsp;=&nbsp;DataRange1d(id='1115', ...),</div></div><div class=\"1227\" style=\"display: none;\"><div style=\"display: table-cell;\"></div><div style=\"display: table-cell;\">x_scale&nbsp;=&nbsp;LinearScale(id='1119', ...),</div></div><div class=\"1227\" style=\"display: none;\"><div style=\"display: table-cell;\"></div><div style=\"display: table-cell;\">y_range&nbsp;=&nbsp;DataRange1d(id='1117', ...),</div></div><div class=\"1227\" style=\"display: none;\"><div style=\"display: table-cell;\"></div><div style=\"display: table-cell;\">y_scale&nbsp;=&nbsp;LinearScale(id='1121', ...))</div></div></div>\n",
       "<script>\n",
       "(function() {\n",
       "  var expanded = false;\n",
       "  var ellipsis = document.getElementById(\"1228\");\n",
       "  ellipsis.addEventListener(\"click\", function() {\n",
       "    var rows = document.getElementsByClassName(\"1227\");\n",
       "    for (var i = 0; i < rows.length; i++) {\n",
       "      var el = rows[i];\n",
       "      el.style.display = expanded ? \"none\" : \"table-row\";\n",
       "    }\n",
       "    ellipsis.innerHTML = expanded ? \"&hellip;)\" : \"&lsaquo;&lsaquo;&lsaquo;\";\n",
       "    expanded = !expanded;\n",
       "  });\n",
       "})();\n",
       "</script>\n"
      ],
      "text/plain": [
       "Figure(id='1114', ...)"
      ]
     },
     "execution_count": 46,
     "metadata": {},
     "output_type": "execute_result"
    }
   ],
   "source": [
    "import bokeh.models as bm, bokeh.plotting as pl\n",
    "from bokeh.io import output_notebook\n",
    "from sklearn.manifold import TSNE\n",
    "from sklearn.preprocessing import StandardScaler\n",
    "\n",
    "def draw_vectors(x, y, radius=10, alpha=0.25, color='blue',\n",
    "                 width=600, height=400, show=True, **kwargs):\n",
    "    if isinstance(color, str): color = [color] * len(x)\n",
    "    data_source = bm.ColumnDataSource({ 'x' : x, 'y' : y, 'color': color, **kwargs })\n",
    "\n",
    "    fig = pl.figure(active_scroll='wheel_zoom', width=width, height=height)\n",
    "    fig.scatter('x', 'y', size=radius, color='color', alpha=alpha, source=data_source)\n",
    "\n",
    "    fig.add_tools(bm.HoverTool(tooltips=[(key, \"@\" + key) for key in kwargs.keys()]))\n",
    "    if show: pl.show(fig)\n",
    "    return fig\n",
    "\n",
    "sentence_vectors = []\n",
    "sentences = []\n",
    "sentence_set = set()\n",
    "tsne = TSNE(n_components=2, verbose=50)\n",
    "for i in range(len(test)):\n",
    "    for j in range(len(test[i])):\n",
    "        if test[i][j] not in sentence_set:\n",
    "            sentence_vector = question_to_vec(new_test[i][j], wv_embeddings)\n",
    "            sentence_vectors.append(sentence_vector)\n",
    "            sentences.append(test[i][j])\n",
    "            sentence_set.add(test[i][j])\n",
    "\n",
    "\n",
    "indeces = np.random.choice(len(sentence_vectors), 500)\n",
    "samples = np.array(sentence_vectors)[indeces]\n",
    "vectors_tsne = tsne.fit_transform(samples)\n",
    "\n",
    "ss = StandardScaler().fit(vectors_tsne)\n",
    "vectors_tsne = ss.transform(vectors_tsne)\n",
    "\n",
    "output_notebook()\n",
    "draw_vectors(vectors_tsne[:, 0], vectors_tsne[:, 1], token=np.array(sentences)[indeces])"
   ]
  },
  {
   "cell_type": "markdown",
   "metadata": {},
   "source": [
    "Отлично. Но, к сожалению, визуализацию тестами на канвасе проверить нельзя, поэтому давайте еще напишем функцию, которая будет находить к вопросу ближайшие похожие =)"
   ]
  },
  {
   "cell_type": "code",
   "execution_count": 47,
   "metadata": {},
   "outputs": [],
   "source": [
    "def find_closest_questions(question, k=5):\n",
    "    \"\"\"\n",
    "    function that finds closest questions from dataset given question\n",
    "    args:\n",
    "        question: question, preprocessed using text_prepare \n",
    "        k: how many nearest questions to find\n",
    "    \"\"\"\n",
    "    \n",
    "    q = question_to_vec(question, wv_embeddings)\n",
    "    questions_vectors = []\n",
    "    questions = []\n",
    "    questions_set = set()\n",
    "    for i in range(len(test)):\n",
    "        for j in range(len(test[i])):\n",
    "            if test[i][j] not in questions_set:\n",
    "                questions.append(test[i][j])\n",
    "                questions_set.add(test[i][j])\n",
    "    for line in questions:\n",
    "        sentence_vector = question_to_vec(line, wv_embeddings)\n",
    "        questions_vectors.append(sentence_vector)\n",
    "    \n",
    "    questions = np.array(questions)\n",
    "    distanses = cosine_similarity(questions_vectors, np.array([q]))[:, 0]\n",
    "    return questions[distanses.argsort()[::-1]][:k]"
   ]
  },
  {
   "cell_type": "code",
   "execution_count": 48,
   "metadata": {},
   "outputs": [
    {
     "data": {
      "text/plain": [
       "array(['What are we doing wrong with git?',\n",
       "       'Calling loadView explicitly -- good/bad?',\n",
       "       'How do you use parsec in a greedy fashion?',\n",
       "       'winapi mouse_event wrong coords',\n",
       "       'How can I make git do the \"did you mean\" suggestion?'],\n",
       "      dtype='<U150')"
      ]
     },
     "execution_count": 48,
     "metadata": {},
     "output_type": "execute_result"
    }
   ],
   "source": [
    "find_closest_questions(text_prepare(\"Why am I so stupid?\"))"
   ]
  },
  {
   "cell_type": "markdown",
   "metadata": {},
   "source": [
    "### Вопрос 10:\n",
    "* Какой самый ближайший вопрос к \"Why am I so stupid?\"?\n",
    "В канвас напишите слова вопроса с маленькой буквы через пробелы без знаков пунктуации (только латинские буквы)"
   ]
  },
  {
   "cell_type": "markdown",
   "metadata": {},
   "source": [
    "What are we doing wrong with git?"
   ]
  }
 ],
 "metadata": {
  "kernelspec": {
   "display_name": "Python 3",
   "language": "python",
   "name": "python3"
  },
  "language_info": {
   "codemirror_mode": {
    "name": "ipython",
    "version": 3
   },
   "file_extension": ".py",
   "mimetype": "text/x-python",
   "name": "python",
   "nbconvert_exporter": "python",
   "pygments_lexer": "ipython3",
   "version": "3.7.3"
  }
 },
 "nbformat": 4,
 "nbformat_minor": 2
}
