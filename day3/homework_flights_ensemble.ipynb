{
 "cells": [
  {
   "cell_type": "code",
   "execution_count": 1,
   "metadata": {
    "collapsed": true
   },
   "outputs": [],
   "source": [
    "import pandas as pd, numpy as np, time\n",
    "import lightgbm as lgb\n",
    "import xgboost as xgb\n",
    "import catboost as cb\n",
    "from sklearn import metrics\n",
    "from collections import Counter\n",
    "from sklearn.model_selection import train_test_split, GridSearchCV"
   ]
  },
  {
   "cell_type": "code",
   "execution_count": 2,
   "metadata": {
    "collapsed": true
   },
   "outputs": [],
   "source": [
    "def auc(model, train, test): \n",
    "    return (metrics.roc_auc_score(y_train, model.predict_proba(train)[:,1]),\n",
    "            metrics.roc_auc_score(y_test, model.predict_proba(test)[:,1]))"
   ]
  },
  {
   "cell_type": "code",
   "execution_count": 3,
   "metadata": {
    "collapsed": true
   },
   "outputs": [],
   "source": [
    "train=pd.read_csv('X_train.csv')\n",
    "test=pd.read_csv('X_test.csv')\n",
    "y_train=np.array(pd.read_csv('y_train.csv'))\n",
    "y_test=np.array(pd.read_csv('y_test.csv'))"
   ]
  },
  {
   "cell_type": "markdown",
   "metadata": {},
   "source": [
    "### XGBoost"
   ]
  },
  {
   "cell_type": "code",
   "execution_count": 4,
   "metadata": {},
   "outputs": [
    {
     "name": "stderr",
     "output_type": "stream",
     "text": [
      "C:\\Users\\Anton\\AppData\\Roaming\\Python\\Python36\\site-packages\\sklearn\\preprocessing\\label.py:219: DataConversionWarning: A column-vector y was passed when a 1d array was expected. Please change the shape of y to (n_samples, ), for example using ravel().\n",
      "  y = column_or_1d(y, warn=True)\n",
      "C:\\Users\\Anton\\AppData\\Roaming\\Python\\Python36\\site-packages\\sklearn\\preprocessing\\label.py:252: DataConversionWarning: A column-vector y was passed when a 1d array was expected. Please change the shape of y to (n_samples, ), for example using ravel().\n",
      "  y = column_or_1d(y, warn=True)\n"
     ]
    },
    {
     "data": {
      "text/plain": [
       "(0.7037043613821493, 0.6957299448706683)"
      ]
     },
     "execution_count": 4,
     "metadata": {},
     "output_type": "execute_result"
    }
   ],
   "source": [
    "model = xgb.XGBClassifier()\n",
    "model.fit(train, np.array(y_train))\n",
    "\n",
    "auc(model, train, test)"
   ]
  },
  {
   "cell_type": "markdown",
   "metadata": {},
   "source": [
    "### LightGBM"
   ]
  },
  {
   "cell_type": "code",
   "execution_count": 5,
   "metadata": {
    "scrolled": true
   },
   "outputs": [
    {
     "name": "stderr",
     "output_type": "stream",
     "text": [
      "C:\\Users\\Anton\\AppData\\Roaming\\Python\\Python36\\site-packages\\sklearn\\preprocessing\\label.py:219: DataConversionWarning: A column-vector y was passed when a 1d array was expected. Please change the shape of y to (n_samples, ), for example using ravel().\n",
      "  y = column_or_1d(y, warn=True)\n",
      "C:\\Users\\Anton\\AppData\\Roaming\\Python\\Python36\\site-packages\\sklearn\\preprocessing\\label.py:252: DataConversionWarning: A column-vector y was passed when a 1d array was expected. Please change the shape of y to (n_samples, ), for example using ravel().\n",
      "  y = column_or_1d(y, warn=True)\n"
     ]
    },
    {
     "data": {
      "text/plain": [
       "(0.7556001645011479, 0.7227598890343905)"
      ]
     },
     "execution_count": 5,
     "metadata": {},
     "output_type": "execute_result"
    }
   ],
   "source": [
    "model2 = lgb.LGBMClassifier()\n",
    "model2.fit(train, y_train)\n",
    "\n",
    "auc(model2, train, test)"
   ]
  },
  {
   "cell_type": "markdown",
   "metadata": {},
   "source": [
    "### Catboost"
   ]
  },
  {
   "cell_type": "code",
   "execution_count": 15,
   "metadata": {},
   "outputs": [
    {
     "name": "stdout",
     "output_type": "stream",
     "text": [
      "0:\tlearn: 0.6804429\ttotal: 99.2ms\tremaining: 2.88s\n",
      "1:\tlearn: 0.6686114\ttotal: 138ms\tremaining: 1.93s\n",
      "2:\tlearn: 0.6575421\ttotal: 176ms\tremaining: 1.58s\n",
      "3:\tlearn: 0.6472172\ttotal: 217ms\tremaining: 1.41s\n",
      "4:\tlearn: 0.6376007\ttotal: 256ms\tremaining: 1.28s\n",
      "5:\tlearn: 0.6286250\ttotal: 296ms\tremaining: 1.18s\n",
      "6:\tlearn: 0.6202610\ttotal: 335ms\tremaining: 1.1s\n",
      "7:\tlearn: 0.6123011\ttotal: 375ms\tremaining: 1.03s\n",
      "8:\tlearn: 0.6049711\ttotal: 418ms\tremaining: 974ms\n",
      "9:\tlearn: 0.5981509\ttotal: 461ms\tremaining: 923ms\n",
      "10:\tlearn: 0.5918098\ttotal: 503ms\tremaining: 870ms\n",
      "11:\tlearn: 0.5857917\ttotal: 546ms\tremaining: 820ms\n",
      "12:\tlearn: 0.5801642\ttotal: 587ms\tremaining: 768ms\n",
      "13:\tlearn: 0.5748992\ttotal: 624ms\tremaining: 713ms\n",
      "14:\tlearn: 0.5698774\ttotal: 664ms\tremaining: 664ms\n",
      "15:\tlearn: 0.5652531\ttotal: 700ms\tremaining: 613ms\n",
      "16:\tlearn: 0.5608902\ttotal: 739ms\tremaining: 565ms\n",
      "17:\tlearn: 0.5567509\ttotal: 781ms\tremaining: 521ms\n",
      "18:\tlearn: 0.5530245\ttotal: 821ms\tremaining: 476ms\n",
      "19:\tlearn: 0.5495389\ttotal: 859ms\tremaining: 430ms\n",
      "20:\tlearn: 0.5461307\ttotal: 902ms\tremaining: 386ms\n",
      "21:\tlearn: 0.5429794\ttotal: 939ms\tremaining: 342ms\n",
      "22:\tlearn: 0.5399938\ttotal: 984ms\tremaining: 299ms\n",
      "23:\tlearn: 0.5372681\ttotal: 1.02s\tremaining: 256ms\n",
      "24:\tlearn: 0.5346814\ttotal: 1.06s\tremaining: 212ms\n",
      "25:\tlearn: 0.5322379\ttotal: 1.1s\tremaining: 169ms\n",
      "26:\tlearn: 0.5299603\ttotal: 1.13s\tremaining: 126ms\n",
      "27:\tlearn: 0.5278411\ttotal: 1.17s\tremaining: 83.6ms\n",
      "28:\tlearn: 0.5257699\ttotal: 1.22s\tremaining: 42ms\n",
      "29:\tlearn: 0.5238080\ttotal: 1.25s\tremaining: 0us\n"
     ]
    },
    {
     "data": {
      "text/plain": [
       "(0.666772632095846, 0.6643034936867621)"
      ]
     },
     "execution_count": 15,
     "metadata": {},
     "output_type": "execute_result"
    }
   ],
   "source": [
    "clf = cb.CatBoostClassifier(iterations=30, verbose=None)\n",
    "clf.fit(train, y_train[:,0])\n",
    "\n",
    "auc(clf, train, test)"
   ]
  },
  {
   "cell_type": "markdown",
   "metadata": {},
   "source": [
    "## NEW TASK!\n",
    "#### slides from Lecture 3 can help you :)"
   ]
  },
  {
   "cell_type": "markdown",
   "metadata": {},
   "source": [
    "### Average of predictions"
   ]
  },
  {
   "cell_type": "code",
   "execution_count": 19,
   "metadata": {},
   "outputs": [
    {
     "data": {
      "text/plain": [
       "(0.7280287695136911, 0.7089696008955761)"
      ]
     },
     "execution_count": 19,
     "metadata": {},
     "output_type": "execute_result"
    }
   ],
   "source": [
    "### YOUR CODE HERE\n",
    "def auc_mean(models, train, test):\n",
    "    mean_pred_train = np.concatenate([model.predict_proba(train)[:,1].reshape(-1,1) for model in models],axis=1).mean(axis=1)\n",
    "    mean_pred_test = np.concatenate([model.predict_proba(test)[:,1].reshape(-1,1) for model in models],axis=1).mean(axis=1)\n",
    "    return (metrics.roc_auc_score(y_train, mean_pred_train),\n",
    "            metrics.roc_auc_score(y_test, mean_pred_test))\n",
    "\n",
    "auc_mean([model, model2, clf], train, test)"
   ]
  },
  {
   "cell_type": "markdown",
   "metadata": {},
   "source": [
    "### Weighted average of predictions"
   ]
  },
  {
   "cell_type": "code",
   "execution_count": 22,
   "metadata": {
    "collapsed": true
   },
   "outputs": [],
   "source": [
    "from sklearn.linear_model import LogisticRegressionCV"
   ]
  },
  {
   "cell_type": "code",
   "execution_count": 23,
   "metadata": {},
   "outputs": [
    {
     "name": "stderr",
     "output_type": "stream",
     "text": [
      "C:\\Users\\Anton\\AppData\\Roaming\\Python\\Python36\\site-packages\\sklearn\\utils\\validation.py:724: DataConversionWarning: A column-vector y was passed when a 1d array was expected. Please change the shape of y to (n_samples, ), for example using ravel().\n",
      "  y = column_or_1d(y, warn=True)\n"
     ]
    },
    {
     "data": {
      "text/plain": [
       "(0.7686800040215928, 0.7234560605877884)"
      ]
     },
     "execution_count": 23,
     "metadata": {},
     "output_type": "execute_result"
    }
   ],
   "source": [
    "### YOUR CODE HERE\n",
    "def auc_weighted(models, train, test):\n",
    "    preds_train = np.concatenate([model.predict_proba(train)[:,1].reshape(-1,1) for model in models],axis=1)\n",
    "    preds_test = np.concatenate([model.predict_proba(test)[:,1].reshape(-1,1) for model in models],axis=1)\n",
    "    \n",
    "    logit = LogisticRegressionCV(cv=5)\n",
    "    logit.fit(preds_train, y_train)\n",
    "    \n",
    "    w_avg_pred_train = logit.predict_proba(preds_train)[:,1]\n",
    "    w_avg_pred_test = logit.predict_proba(preds_test)[:,1]\n",
    "    \n",
    "    return (metrics.roc_auc_score(y_train, w_avg_pred_train),\n",
    "            metrics.roc_auc_score(y_test, w_avg_pred_test))\n",
    "\n",
    "auc_weighted([model, model2, clf], train, test)"
   ]
  },
  {
   "cell_type": "markdown",
   "metadata": {},
   "source": [
    "### Bagging "
   ]
  },
  {
   "cell_type": "code",
   "execution_count": 26,
   "metadata": {
    "collapsed": true
   },
   "outputs": [],
   "source": [
    "from sklearn.ensemble import RandomForestClassifier"
   ]
  },
  {
   "cell_type": "code",
   "execution_count": 29,
   "metadata": {},
   "outputs": [
    {
     "name": "stderr",
     "output_type": "stream",
     "text": [
      "C:\\Users\\Anton\\AppData\\Roaming\\Python\\Python36\\site-packages\\sklearn\\ensemble\\forest.py:245: FutureWarning: The default value of n_estimators will change from 10 in version 0.20 to 100 in 0.22.\n",
      "  \"10 in version 0.20 to 100 in 0.22.\", FutureWarning)\n",
      "C:\\Users\\Anton\\Anaconda3\\lib\\site-packages\\ipykernel_launcher.py:11: DataConversionWarning: A column-vector y was passed when a 1d array was expected. Please change the shape of y to (n_samples,), for example using ravel().\n",
      "  # This is added back by InteractiveShellApp.init_path()\n",
      "C:\\Users\\Anton\\Anaconda3\\lib\\site-packages\\ipykernel_launcher.py:11: DataConversionWarning: A column-vector y was passed when a 1d array was expected. Please change the shape of y to (n_samples,), for example using ravel().\n",
      "  # This is added back by InteractiveShellApp.init_path()\n",
      "C:\\Users\\Anton\\Anaconda3\\lib\\site-packages\\ipykernel_launcher.py:11: DataConversionWarning: A column-vector y was passed when a 1d array was expected. Please change the shape of y to (n_samples,), for example using ravel().\n",
      "  # This is added back by InteractiveShellApp.init_path()\n",
      "C:\\Users\\Anton\\Anaconda3\\lib\\site-packages\\ipykernel_launcher.py:11: DataConversionWarning: A column-vector y was passed when a 1d array was expected. Please change the shape of y to (n_samples,), for example using ravel().\n",
      "  # This is added back by InteractiveShellApp.init_path()\n",
      "C:\\Users\\Anton\\Anaconda3\\lib\\site-packages\\ipykernel_launcher.py:11: DataConversionWarning: A column-vector y was passed when a 1d array was expected. Please change the shape of y to (n_samples,), for example using ravel().\n",
      "  # This is added back by InteractiveShellApp.init_path()\n",
      "C:\\Users\\Anton\\Anaconda3\\lib\\site-packages\\ipykernel_launcher.py:11: DataConversionWarning: A column-vector y was passed when a 1d array was expected. Please change the shape of y to (n_samples,), for example using ravel().\n",
      "  # This is added back by InteractiveShellApp.init_path()\n",
      "C:\\Users\\Anton\\Anaconda3\\lib\\site-packages\\ipykernel_launcher.py:11: DataConversionWarning: A column-vector y was passed when a 1d array was expected. Please change the shape of y to (n_samples,), for example using ravel().\n",
      "  # This is added back by InteractiveShellApp.init_path()\n",
      "C:\\Users\\Anton\\Anaconda3\\lib\\site-packages\\ipykernel_launcher.py:11: DataConversionWarning: A column-vector y was passed when a 1d array was expected. Please change the shape of y to (n_samples,), for example using ravel().\n",
      "  # This is added back by InteractiveShellApp.init_path()\n",
      "C:\\Users\\Anton\\Anaconda3\\lib\\site-packages\\ipykernel_launcher.py:11: DataConversionWarning: A column-vector y was passed when a 1d array was expected. Please change the shape of y to (n_samples,), for example using ravel().\n",
      "  # This is added back by InteractiveShellApp.init_path()\n",
      "C:\\Users\\Anton\\Anaconda3\\lib\\site-packages\\ipykernel_launcher.py:11: DataConversionWarning: A column-vector y was passed when a 1d array was expected. Please change the shape of y to (n_samples,), for example using ravel().\n",
      "  # This is added back by InteractiveShellApp.init_path()\n"
     ]
    },
    {
     "data": {
      "text/plain": [
       "(1.0, 0.7197720597377896)"
      ]
     },
     "execution_count": 29,
     "metadata": {},
     "output_type": "execute_result"
    }
   ],
   "source": [
    "### YOUR CODE HERE\n",
    "def auc_bagged(train, test):\n",
    "    \n",
    "    rfc = RandomForestClassifier()\n",
    "    bags = 10\n",
    "    seed = 1\n",
    "    bagged_preds_train = np.zeros(train.shape[0])\n",
    "    bagged_preds_test = np.zeros(test.shape[0])\n",
    "    for n in range(bags):\n",
    "        rfc.set_params(random_state=seed+n)\n",
    "        rfc.fit(train, y_train)\n",
    "        preds_train = rfc.predict_proba(train)[:,1]\n",
    "        preds_test = rfc.predict_proba(test)[:,1]\n",
    "        bagged_preds_train+=preds_train\n",
    "        bagged_preds_test+=preds_test\n",
    "    \n",
    "    return (metrics.roc_auc_score(y_train, bagged_preds_train/bags),\n",
    "            metrics.roc_auc_score(y_test, bagged_preds_test/bags))\n",
    "\n",
    "auc_bagged(train, test)"
   ]
  },
  {
   "cell_type": "markdown",
   "metadata": {},
   "source": [
    "### Stacking"
   ]
  },
  {
   "cell_type": "code",
   "execution_count": 30,
   "metadata": {
    "collapsed": true
   },
   "outputs": [],
   "source": [
    "from sklearn.model_selection import train_test_split"
   ]
  },
  {
   "cell_type": "code",
   "execution_count": 36,
   "metadata": {},
   "outputs": [
    {
     "name": "stderr",
     "output_type": "stream",
     "text": [
      "C:\\Users\\Anton\\AppData\\Roaming\\Python\\Python36\\site-packages\\sklearn\\preprocessing\\label.py:219: DataConversionWarning: A column-vector y was passed when a 1d array was expected. Please change the shape of y to (n_samples, ), for example using ravel().\n",
      "  y = column_or_1d(y, warn=True)\n",
      "C:\\Users\\Anton\\AppData\\Roaming\\Python\\Python36\\site-packages\\sklearn\\preprocessing\\label.py:252: DataConversionWarning: A column-vector y was passed when a 1d array was expected. Please change the shape of y to (n_samples, ), for example using ravel().\n",
      "  y = column_or_1d(y, warn=True)\n"
     ]
    },
    {
     "name": "stdout",
     "output_type": "stream",
     "text": [
      "0:\tlearn: 0.6802321\ttotal: 26.4ms\tremaining: 766ms\n",
      "1:\tlearn: 0.6681502\ttotal: 53.5ms\tremaining: 749ms\n",
      "2:\tlearn: 0.6568942\ttotal: 80ms\tremaining: 720ms\n",
      "3:\tlearn: 0.6464790\ttotal: 107ms\tremaining: 692ms\n",
      "4:\tlearn: 0.6368768\ttotal: 132ms\tremaining: 661ms\n",
      "5:\tlearn: 0.6277459\ttotal: 159ms\tremaining: 635ms\n",
      "6:\tlearn: 0.6192242\ttotal: 185ms\tremaining: 608ms\n",
      "7:\tlearn: 0.6111550\ttotal: 211ms\tremaining: 580ms\n",
      "8:\tlearn: 0.6036505\ttotal: 240ms\tremaining: 561ms\n",
      "9:\tlearn: 0.5967091\ttotal: 269ms\tremaining: 538ms\n",
      "10:\tlearn: 0.5903241\ttotal: 294ms\tremaining: 508ms\n",
      "11:\tlearn: 0.5842382\ttotal: 321ms\tremaining: 482ms\n",
      "12:\tlearn: 0.5783760\ttotal: 348ms\tremaining: 455ms\n",
      "13:\tlearn: 0.5730202\ttotal: 375ms\tremaining: 428ms\n",
      "14:\tlearn: 0.5680148\ttotal: 402ms\tremaining: 402ms\n",
      "15:\tlearn: 0.5632601\ttotal: 429ms\tremaining: 375ms\n",
      "16:\tlearn: 0.5587985\ttotal: 458ms\tremaining: 350ms\n",
      "17:\tlearn: 0.5546345\ttotal: 484ms\tremaining: 323ms\n",
      "18:\tlearn: 0.5506236\ttotal: 511ms\tremaining: 296ms\n",
      "19:\tlearn: 0.5471718\ttotal: 536ms\tremaining: 268ms\n",
      "20:\tlearn: 0.5437733\ttotal: 564ms\tremaining: 242ms\n",
      "21:\tlearn: 0.5405786\ttotal: 591ms\tremaining: 215ms\n",
      "22:\tlearn: 0.5375384\ttotal: 616ms\tremaining: 188ms\n",
      "23:\tlearn: 0.5346583\ttotal: 640ms\tremaining: 160ms\n",
      "24:\tlearn: 0.5319537\ttotal: 665ms\tremaining: 133ms\n",
      "25:\tlearn: 0.5294220\ttotal: 696ms\tremaining: 107ms\n",
      "26:\tlearn: 0.5270690\ttotal: 723ms\tremaining: 80.3ms\n",
      "27:\tlearn: 0.5249470\ttotal: 753ms\tremaining: 53.8ms\n",
      "28:\tlearn: 0.5228820\ttotal: 780ms\tremaining: 26.9ms\n",
      "29:\tlearn: 0.5209765\ttotal: 804ms\tremaining: 0us\n"
     ]
    },
    {
     "name": "stderr",
     "output_type": "stream",
     "text": [
      "C:\\Users\\Anton\\AppData\\Roaming\\Python\\Python36\\site-packages\\sklearn\\utils\\validation.py:724: DataConversionWarning: A column-vector y was passed when a 1d array was expected. Please change the shape of y to (n_samples, ), for example using ravel().\n",
      "  y = column_or_1d(y, warn=True)\n"
     ]
    },
    {
     "data": {
      "text/plain": [
       "(0.717676559782316, 0.7149900112653964)"
      ]
     },
     "execution_count": 36,
     "metadata": {},
     "output_type": "execute_result"
    }
   ],
   "source": [
    "### YOUR CODE HERE\n",
    "\n",
    "### YOUR CODE HERE\n",
    "def auc_stacking(models0, train, test):\n",
    "    \n",
    "    train1, train2,y_train1, y_train2 = train_test_split(train, y_train, test_size=0.5)\n",
    "    models = []\n",
    "    for model in models0:\n",
    "        try:\n",
    "            m = model.fit(train1, y_train1.reshape(-1,1))\n",
    "        except:\n",
    "            m = model.fit(train1, y_train1[:,0])\n",
    "        models.append(m)\n",
    "        \n",
    "    preds_train1 = np.concatenate([model.predict_proba(train1)[:,1].reshape(-1,1) for model in models],axis=1)\n",
    "    preds_train2 = np.concatenate([model.predict_proba(train2)[:,1].reshape(-1,1) for model in models],axis=1)\n",
    "    preds_test = np.concatenate([model.predict_proba(test)[:,1].reshape(-1,1) for model in models],axis=1)\n",
    "    \n",
    "    logit = LogisticRegressionCV(cv=5)\n",
    "    logit.fit(preds_train2, y_train2)\n",
    "    \n",
    "    w_avg_pred_train = logit.predict_proba(preds_train2)[:,1]\n",
    "    w_avg_pred_test = logit.predict_proba(preds_test)[:,1]\n",
    "    \n",
    "    return (metrics.roc_auc_score(y_train2, w_avg_pred_train),\n",
    "            metrics.roc_auc_score(y_test, w_avg_pred_test))\n",
    "\n",
    "auc_stacking([model, model2, clf], train, test)"
   ]
  },
  {
   "cell_type": "code",
   "execution_count": null,
   "metadata": {
    "collapsed": true
   },
   "outputs": [],
   "source": []
  }
 ],
 "metadata": {
  "kernelspec": {
   "display_name": "Python 3",
   "language": "python",
   "name": "python3"
  },
  "language_info": {
   "codemirror_mode": {
    "name": "ipython",
    "version": 3
   },
   "file_extension": ".py",
   "mimetype": "text/x-python",
   "name": "python",
   "nbconvert_exporter": "python",
   "pygments_lexer": "ipython3",
   "version": "3.6.3"
  }
 },
 "nbformat": 4,
 "nbformat_minor": 2
}
